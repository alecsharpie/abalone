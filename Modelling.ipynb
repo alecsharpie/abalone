{
 "cells": [
  {
   "cell_type": "code",
   "execution_count": 58,
   "id": "2790222d",
   "metadata": {},
   "outputs": [],
   "source": [
    "import pandas as pd\n",
    "import numpy as np\n",
    "import matplotlib.pyplot as plt\n",
    "import seaborn as sns"
   ]
  },
  {
   "cell_type": "code",
   "execution_count": 122,
   "id": "39067d90",
   "metadata": {},
   "outputs": [],
   "source": [
    "from sklearn.preprocessing import MinMaxScaler\n",
    "from sklearn.preprocessing import StandardScaler\n",
    "from sklearn.preprocessing import OneHotEncoder\n",
    "from sklearn.pipeline import Pipeline\n",
    "from sklearn.compose import ColumnTransformer\n",
    "\n",
    "from sklearn.base import BaseEstimator, TransformerMixin\n",
    "\n",
    "from sklearn.model_selection import GridSearchCV\n",
    "\n",
    "from sklearn.ensemble import GradientBoostingRegressor\n",
    "from sklearn.ensemble import RandomForestRegressor\n",
    "from sklearn.linear_model import LinearRegression\n",
    "\n",
    "from sklearn.model_selection import train_test_split\n",
    "from sklearn.model_selection import cross_validate\n",
    "\n",
    "from sklearn.metrics import mean_absolute_percentage_error\n",
    "from sklearn.metrics import SCORERS\n",
    "from sklearn.metrics import r2_score"
   ]
  },
  {
   "cell_type": "code",
   "execution_count": 181,
   "id": "97d2d3c0",
   "metadata": {},
   "outputs": [],
   "source": [
    "df = pd.read_csv(\"abalone.csv\")"
   ]
  },
  {
   "cell_type": "code",
   "execution_count": 182,
   "id": "00229527",
   "metadata": {},
   "outputs": [
    {
     "data": {
      "text/html": [
       "<div>\n",
       "<style scoped>\n",
       "    .dataframe tbody tr th:only-of-type {\n",
       "        vertical-align: middle;\n",
       "    }\n",
       "\n",
       "    .dataframe tbody tr th {\n",
       "        vertical-align: top;\n",
       "    }\n",
       "\n",
       "    .dataframe thead th {\n",
       "        text-align: right;\n",
       "    }\n",
       "</style>\n",
       "<table border=\"1\" class=\"dataframe\">\n",
       "  <thead>\n",
       "    <tr style=\"text-align: right;\">\n",
       "      <th></th>\n",
       "      <th>Sex</th>\n",
       "      <th>Length</th>\n",
       "      <th>Diameter</th>\n",
       "      <th>Height</th>\n",
       "      <th>Whole weight</th>\n",
       "      <th>Shucked weight</th>\n",
       "      <th>Viscera weight</th>\n",
       "      <th>Shell weight</th>\n",
       "      <th>Rings</th>\n",
       "    </tr>\n",
       "  </thead>\n",
       "  <tbody>\n",
       "    <tr>\n",
       "      <th>0</th>\n",
       "      <td>M</td>\n",
       "      <td>0.455</td>\n",
       "      <td>0.365</td>\n",
       "      <td>0.095</td>\n",
       "      <td>0.5140</td>\n",
       "      <td>0.2245</td>\n",
       "      <td>0.1010</td>\n",
       "      <td>0.15</td>\n",
       "      <td>15</td>\n",
       "    </tr>\n",
       "    <tr>\n",
       "      <th>1</th>\n",
       "      <td>M</td>\n",
       "      <td>0.350</td>\n",
       "      <td>0.265</td>\n",
       "      <td>0.090</td>\n",
       "      <td>0.2255</td>\n",
       "      <td>0.0995</td>\n",
       "      <td>0.0485</td>\n",
       "      <td>0.07</td>\n",
       "      <td>7</td>\n",
       "    </tr>\n",
       "  </tbody>\n",
       "</table>\n",
       "</div>"
      ],
      "text/plain": [
       "  Sex  Length  Diameter  Height  Whole weight  Shucked weight  Viscera weight  \\\n",
       "0   M   0.455     0.365   0.095        0.5140          0.2245          0.1010   \n",
       "1   M   0.350     0.265   0.090        0.2255          0.0995          0.0485   \n",
       "\n",
       "   Shell weight  Rings  \n",
       "0          0.15     15  \n",
       "1          0.07      7  "
      ]
     },
     "execution_count": 182,
     "metadata": {},
     "output_type": "execute_result"
    }
   ],
   "source": [
    "df.head(2)"
   ]
  },
  {
   "cell_type": "code",
   "execution_count": 183,
   "id": "039ba02c",
   "metadata": {},
   "outputs": [
    {
     "data": {
      "text/plain": [
       "array([15,  7,  9, 10,  8, 20, 16, 19, 14, 11, 12, 18, 13,  5,  4,  6, 21,\n",
       "       17, 22,  1,  3, 26, 23, 29,  2, 27, 25, 24])"
      ]
     },
     "execution_count": 183,
     "metadata": {},
     "output_type": "execute_result"
    }
   ],
   "source": [
    "df.Rings.unique()"
   ]
  },
  {
   "cell_type": "code",
   "execution_count": 184,
   "id": "d54e9f3b",
   "metadata": {},
   "outputs": [],
   "source": [
    "X = df.drop(columns = 'Rings')"
   ]
  },
  {
   "cell_type": "code",
   "execution_count": null,
   "id": "75d96caf",
   "metadata": {},
   "outputs": [],
   "source": []
  },
  {
   "cell_type": "code",
   "execution_count": 185,
   "id": "172bb9d2",
   "metadata": {},
   "outputs": [],
   "source": [
    "df['age'] = df['Rings']+1.5\n",
    "y = df['age']"
   ]
  },
  {
   "cell_type": "code",
   "execution_count": 186,
   "id": "3ad78a72",
   "metadata": {},
   "outputs": [],
   "source": [
    "X_train, X_test, y_train, y_test = train_test_split(X, y, test_size = 0.3)"
   ]
  },
  {
   "cell_type": "code",
   "execution_count": 187,
   "id": "c5800ddd",
   "metadata": {},
   "outputs": [],
   "source": [
    "X_train_alive = X_train[['Sex','Length','Diameter','Height', 'Whole weight']]\n",
    "X_test_alive = X_test[['Sex','Length','Diameter','Height', 'Whole weight']]"
   ]
  },
  {
   "cell_type": "code",
   "execution_count": 188,
   "id": "1d95809e",
   "metadata": {},
   "outputs": [],
   "source": [
    "import math\n",
    "\n",
    "class AreaTransformer(BaseEstimator, TransformerMixin):\n",
    "\n",
    "    def fit(self, X, y=None):\n",
    "        return self\n",
    "    \n",
    "    def transform(self, X, y=None):\n",
    "        '''A=πab'''\n",
    "        X_ = X.copy()\n",
    "        X_[\"area\"] = math.pi * X_['Length'] * X_['Diameter']\n",
    "        return X_[[\"area\"]]"
   ]
  },
  {
   "cell_type": "code",
   "execution_count": 189,
   "id": "5ca0481b",
   "metadata": {},
   "outputs": [],
   "source": [
    "trans = ColumnTransformer(\n",
    "    [('ohe', OneHotEncoder(drop = 'first'), ['Sex']),\n",
    "    ('area', AreaTransformer(), ['Length', 'Diameter'])],\n",
    "    remainder = 'passthrough')"
   ]
  },
  {
   "cell_type": "code",
   "execution_count": 190,
   "id": "641a9d2a",
   "metadata": {},
   "outputs": [],
   "source": [
    "preproc = Pipeline([\n",
    "    ('encoder', trans),\n",
    "    ('scaler', StandardScaler())\n",
    "])"
   ]
  },
  {
   "cell_type": "code",
   "execution_count": 191,
   "id": "8d4e4b83",
   "metadata": {},
   "outputs": [],
   "source": [
    "lin_reg = Pipeline([\n",
    "    ('preproc', preproc),\n",
    "    ('model', LinearRegression())\n",
    "])"
   ]
  },
  {
   "cell_type": "code",
   "execution_count": 192,
   "id": "8120c6c7",
   "metadata": {},
   "outputs": [],
   "source": [
    "gbr = Pipeline([\n",
    "    ('preproc', preproc),\n",
    "    ('gbr', GradientBoostingRegressor(n_estimators=500, \n",
    "                               learning_rate=0.2,\n",
    "                               max_depth=1))\n",
    "])"
   ]
  },
  {
   "cell_type": "code",
   "execution_count": 193,
   "id": "8e6a849a",
   "metadata": {},
   "outputs": [],
   "source": [
    "rf = Pipeline([\n",
    "    ('preproc', preproc),\n",
    "    ('rf', RandomForestRegressor(n_estimators = 400))  \n",
    "])\n"
   ]
  },
  {
   "cell_type": "code",
   "execution_count": 118,
   "id": "1fd6009d",
   "metadata": {},
   "outputs": [
    {
     "name": "stdout",
     "output_type": "stream",
     "text": [
      "abs error:  -1.6110005746171052\n",
      "% error:  -0.14085498307289604\n",
      "r2:  0.49347782903178816\n"
     ]
    }
   ],
   "source": [
    "res = cross_validate(lin_reg, \n",
    "               X_train, \n",
    "               y_train, \n",
    "               cv = 5, \n",
    "               scoring = ['neg_mean_absolute_error','neg_mean_absolute_percentage_error', 'r2'])\n",
    "\n",
    "print('abs error: ', res['test_neg_mean_absolute_error'].mean())\n",
    "print('% error: ', res['test_neg_mean_absolute_percentage_error'].mean())\n",
    "print('r2: ', res['test_r2'].mean())"
   ]
  },
  {
   "cell_type": "code",
   "execution_count": 120,
   "id": "76086f1c",
   "metadata": {},
   "outputs": [
    {
     "name": "stdout",
     "output_type": "stream",
     "text": [
      "abs error:  -1.5911960828471206\n",
      "% error:  -0.1364910742325986\n",
      "r2:  0.530506721386295\n"
     ]
    }
   ],
   "source": [
    "res = cross_validate(gbr, \n",
    "               X_train, \n",
    "               y_train, \n",
    "               cv = 5, \n",
    "               scoring = ['neg_mean_absolute_error','neg_mean_absolute_percentage_error', 'r2'])\n",
    "\n",
    "print('abs error: ', res['test_neg_mean_absolute_error'].mean())\n",
    "print('% error: ', res['test_neg_mean_absolute_percentage_error'].mean())\n",
    "print('r2: ', res['test_r2'].mean())"
   ]
  },
  {
   "cell_type": "code",
   "execution_count": 121,
   "id": "660a821d",
   "metadata": {},
   "outputs": [
    {
     "name": "stdout",
     "output_type": "stream",
     "text": [
      "abs error:  -1.5603701220583068\n",
      "% error:  -0.13366143834958985\n",
      "r2:  0.5365793019802574\n"
     ]
    }
   ],
   "source": [
    "res = cross_validate(rf, \n",
    "               X_train, \n",
    "               y_train, \n",
    "               cv = 5, \n",
    "               scoring = ['neg_mean_absolute_error','neg_mean_absolute_percentage_error', 'r2'])\n",
    "\n",
    "print('abs error: ', res['test_neg_mean_absolute_error'].mean())\n",
    "print('% error: ', res['test_neg_mean_absolute_percentage_error'].mean())\n",
    "print('r2: ', res['test_r2'].mean())"
   ]
  },
  {
   "cell_type": "code",
   "execution_count": 98,
   "id": "d6f5c8d5",
   "metadata": {
    "collapsed": true
   },
   "outputs": [
    {
     "data": {
      "text/plain": [
       "{'memory': None,\n",
       " 'steps': [('preproc', Pipeline(steps=[('encoder',\n",
       "                    ColumnTransformer(remainder='passthrough',\n",
       "                                      transformers=[('ohe',\n",
       "                                                     OneHotEncoder(drop='first'),\n",
       "                                                     ['Sex'])])),\n",
       "                   ('scaler', StandardScaler())])),\n",
       "  ('rf', RandomForestRegressor(n_estimators=400))],\n",
       " 'verbose': False,\n",
       " 'preproc': Pipeline(steps=[('encoder',\n",
       "                  ColumnTransformer(remainder='passthrough',\n",
       "                                    transformers=[('ohe',\n",
       "                                                   OneHotEncoder(drop='first'),\n",
       "                                                   ['Sex'])])),\n",
       "                 ('scaler', StandardScaler())]),\n",
       " 'rf': RandomForestRegressor(n_estimators=400),\n",
       " 'preproc__memory': None,\n",
       " 'preproc__steps': [('encoder',\n",
       "   ColumnTransformer(remainder='passthrough',\n",
       "                     transformers=[('ohe', OneHotEncoder(drop='first'), ['Sex'])])),\n",
       "  ('scaler', StandardScaler())],\n",
       " 'preproc__verbose': False,\n",
       " 'preproc__encoder': ColumnTransformer(remainder='passthrough',\n",
       "                   transformers=[('ohe', OneHotEncoder(drop='first'), ['Sex'])]),\n",
       " 'preproc__scaler': StandardScaler(),\n",
       " 'preproc__encoder__n_jobs': None,\n",
       " 'preproc__encoder__remainder': 'passthrough',\n",
       " 'preproc__encoder__sparse_threshold': 0.3,\n",
       " 'preproc__encoder__transformer_weights': None,\n",
       " 'preproc__encoder__transformers': [('ohe',\n",
       "   OneHotEncoder(drop='first'),\n",
       "   ['Sex'])],\n",
       " 'preproc__encoder__verbose': False,\n",
       " 'preproc__encoder__ohe': OneHotEncoder(drop='first'),\n",
       " 'preproc__encoder__ohe__categories': 'auto',\n",
       " 'preproc__encoder__ohe__drop': 'first',\n",
       " 'preproc__encoder__ohe__dtype': numpy.float64,\n",
       " 'preproc__encoder__ohe__handle_unknown': 'error',\n",
       " 'preproc__encoder__ohe__sparse': True,\n",
       " 'preproc__scaler__copy': True,\n",
       " 'preproc__scaler__with_mean': True,\n",
       " 'preproc__scaler__with_std': True,\n",
       " 'rf__bootstrap': True,\n",
       " 'rf__ccp_alpha': 0.0,\n",
       " 'rf__criterion': 'mse',\n",
       " 'rf__max_depth': None,\n",
       " 'rf__max_features': 'auto',\n",
       " 'rf__max_leaf_nodes': None,\n",
       " 'rf__max_samples': None,\n",
       " 'rf__min_impurity_decrease': 0.0,\n",
       " 'rf__min_impurity_split': None,\n",
       " 'rf__min_samples_leaf': 1,\n",
       " 'rf__min_samples_split': 2,\n",
       " 'rf__min_weight_fraction_leaf': 0.0,\n",
       " 'rf__n_estimators': 400,\n",
       " 'rf__n_jobs': None,\n",
       " 'rf__oob_score': False,\n",
       " 'rf__random_state': None,\n",
       " 'rf__verbose': 0,\n",
       " 'rf__warm_start': False}"
      ]
     },
     "execution_count": 98,
     "metadata": {},
     "output_type": "execute_result"
    }
   ],
   "source": [
    "rf.get_params()"
   ]
  },
  {
   "cell_type": "code",
   "execution_count": 174,
   "id": "fb846f3d",
   "metadata": {},
   "outputs": [],
   "source": [
    "params = {'rf__max_depth': [6, 7, 8, 9, 10],\n",
    "         'rf__n_estimators': [200, 400, 600, 800]}"
   ]
  },
  {
   "cell_type": "code",
   "execution_count": 175,
   "id": "7cec1fca",
   "metadata": {},
   "outputs": [],
   "source": [
    "grid = GridSearchCV(rf, params, verbose = 3, cv = 3)"
   ]
  },
  {
   "cell_type": "code",
   "execution_count": 176,
   "id": "a5ddc2a8",
   "metadata": {},
   "outputs": [
    {
     "name": "stdout",
     "output_type": "stream",
     "text": [
      "Fitting 3 folds for each of 20 candidates, totalling 60 fits\n",
      "[CV 1/3] END rf__max_depth=6, rf__n_estimators=200;, score=0.382 total time=   0.5s\n",
      "[CV 2/3] END rf__max_depth=6, rf__n_estimators=200;, score=0.425 total time=   0.5s\n",
      "[CV 3/3] END rf__max_depth=6, rf__n_estimators=200;, score=0.396 total time=   0.6s\n",
      "[CV 1/3] END rf__max_depth=6, rf__n_estimators=400;, score=0.380 total time=   1.4s\n",
      "[CV 2/3] END rf__max_depth=6, rf__n_estimators=400;, score=0.425 total time=   1.4s\n",
      "[CV 3/3] END rf__max_depth=6, rf__n_estimators=400;, score=0.399 total time=   1.1s\n",
      "[CV 1/3] END rf__max_depth=6, rf__n_estimators=600;, score=0.382 total time=   1.5s\n",
      "[CV 2/3] END rf__max_depth=6, rf__n_estimators=600;, score=0.426 total time=   1.4s\n",
      "[CV 3/3] END rf__max_depth=6, rf__n_estimators=600;, score=0.396 total time=   1.5s\n",
      "[CV 1/3] END rf__max_depth=6, rf__n_estimators=800;, score=0.382 total time=   2.0s\n",
      "[CV 2/3] END rf__max_depth=6, rf__n_estimators=800;, score=0.426 total time=   2.1s\n",
      "[CV 3/3] END rf__max_depth=6, rf__n_estimators=800;, score=0.396 total time=   2.1s\n",
      "[CV 1/3] END rf__max_depth=7, rf__n_estimators=200;, score=0.386 total time=   0.6s\n",
      "[CV 2/3] END rf__max_depth=7, rf__n_estimators=200;, score=0.425 total time=   0.5s\n",
      "[CV 3/3] END rf__max_depth=7, rf__n_estimators=200;, score=0.393 total time=   0.5s\n",
      "[CV 1/3] END rf__max_depth=7, rf__n_estimators=400;, score=0.382 total time=   1.1s\n",
      "[CV 2/3] END rf__max_depth=7, rf__n_estimators=400;, score=0.426 total time=   1.1s\n",
      "[CV 3/3] END rf__max_depth=7, rf__n_estimators=400;, score=0.391 total time=   1.1s\n",
      "[CV 1/3] END rf__max_depth=7, rf__n_estimators=600;, score=0.380 total time=   1.6s\n",
      "[CV 2/3] END rf__max_depth=7, rf__n_estimators=600;, score=0.427 total time=   1.7s\n",
      "[CV 3/3] END rf__max_depth=7, rf__n_estimators=600;, score=0.392 total time=   1.7s\n",
      "[CV 1/3] END rf__max_depth=7, rf__n_estimators=800;, score=0.380 total time=   2.2s\n",
      "[CV 2/3] END rf__max_depth=7, rf__n_estimators=800;, score=0.427 total time=   2.2s\n",
      "[CV 3/3] END rf__max_depth=7, rf__n_estimators=800;, score=0.392 total time=   2.2s\n",
      "[CV 1/3] END rf__max_depth=8, rf__n_estimators=200;, score=0.379 total time=   0.6s\n",
      "[CV 2/3] END rf__max_depth=8, rf__n_estimators=200;, score=0.422 total time=   0.6s\n",
      "[CV 3/3] END rf__max_depth=8, rf__n_estimators=200;, score=0.379 total time=   0.6s\n",
      "[CV 1/3] END rf__max_depth=8, rf__n_estimators=400;, score=0.381 total time=   1.2s\n",
      "[CV 2/3] END rf__max_depth=8, rf__n_estimators=400;, score=0.425 total time=   1.2s\n",
      "[CV 3/3] END rf__max_depth=8, rf__n_estimators=400;, score=0.382 total time=   1.3s\n",
      "[CV 1/3] END rf__max_depth=8, rf__n_estimators=600;, score=0.381 total time=   1.9s\n",
      "[CV 2/3] END rf__max_depth=8, rf__n_estimators=600;, score=0.425 total time=   1.8s\n",
      "[CV 3/3] END rf__max_depth=8, rf__n_estimators=600;, score=0.381 total time=   1.8s\n",
      "[CV 1/3] END rf__max_depth=8, rf__n_estimators=800;, score=0.381 total time=   2.4s\n",
      "[CV 2/3] END rf__max_depth=8, rf__n_estimators=800;, score=0.423 total time=   2.8s\n",
      "[CV 3/3] END rf__max_depth=8, rf__n_estimators=800;, score=0.383 total time=   2.9s\n",
      "[CV 1/3] END rf__max_depth=9, rf__n_estimators=200;, score=0.380 total time=   0.8s\n",
      "[CV 2/3] END rf__max_depth=9, rf__n_estimators=200;, score=0.417 total time=   0.8s\n",
      "[CV 3/3] END rf__max_depth=9, rf__n_estimators=200;, score=0.372 total time=   0.8s\n",
      "[CV 1/3] END rf__max_depth=9, rf__n_estimators=400;, score=0.376 total time=   1.5s\n",
      "[CV 2/3] END rf__max_depth=9, rf__n_estimators=400;, score=0.420 total time=   1.6s\n",
      "[CV 3/3] END rf__max_depth=9, rf__n_estimators=400;, score=0.370 total time=   1.6s\n",
      "[CV 1/3] END rf__max_depth=9, rf__n_estimators=600;, score=0.379 total time=   2.5s\n",
      "[CV 2/3] END rf__max_depth=9, rf__n_estimators=600;, score=0.417 total time=   2.1s\n",
      "[CV 3/3] END rf__max_depth=9, rf__n_estimators=600;, score=0.374 total time=   2.2s\n",
      "[CV 1/3] END rf__max_depth=9, rf__n_estimators=800;, score=0.377 total time=   3.0s\n",
      "[CV 2/3] END rf__max_depth=9, rf__n_estimators=800;, score=0.419 total time=   2.8s\n",
      "[CV 3/3] END rf__max_depth=9, rf__n_estimators=800;, score=0.376 total time=   3.0s\n",
      "[CV 1/3] END rf__max_depth=10, rf__n_estimators=200;, score=0.371 total time=   0.8s\n",
      "[CV 2/3] END rf__max_depth=10, rf__n_estimators=200;, score=0.408 total time=   0.9s\n",
      "[CV 3/3] END rf__max_depth=10, rf__n_estimators=200;, score=0.366 total time=   0.9s\n",
      "[CV 1/3] END rf__max_depth=10, rf__n_estimators=400;, score=0.375 total time=   1.7s\n",
      "[CV 2/3] END rf__max_depth=10, rf__n_estimators=400;, score=0.412 total time=   1.6s\n",
      "[CV 3/3] END rf__max_depth=10, rf__n_estimators=400;, score=0.363 total time=   1.7s\n",
      "[CV 1/3] END rf__max_depth=10, rf__n_estimators=600;, score=0.374 total time=   2.5s\n",
      "[CV 2/3] END rf__max_depth=10, rf__n_estimators=600;, score=0.416 total time=   2.7s\n",
      "[CV 3/3] END rf__max_depth=10, rf__n_estimators=600;, score=0.363 total time=   2.4s\n",
      "[CV 1/3] END rf__max_depth=10, rf__n_estimators=800;, score=0.375 total time=   4.2s\n",
      "[CV 2/3] END rf__max_depth=10, rf__n_estimators=800;, score=0.414 total time=   3.9s\n",
      "[CV 3/3] END rf__max_depth=10, rf__n_estimators=800;, score=0.361 total time=   3.8s\n"
     ]
    }
   ],
   "source": [
    "gs_res = grid.fit(X_train_alive, y_train)"
   ]
  },
  {
   "cell_type": "code",
   "execution_count": 177,
   "id": "6306e603",
   "metadata": {},
   "outputs": [
    {
     "data": {
      "text/plain": [
       "Pipeline(steps=[('preproc',\n",
       "                 Pipeline(steps=[('encoder',\n",
       "                                  ColumnTransformer(remainder='passthrough',\n",
       "                                                    transformers=[('ohe',\n",
       "                                                                   OneHotEncoder(drop='first'),\n",
       "                                                                   ['Sex']),\n",
       "                                                                  ('area',\n",
       "                                                                   AreaTransformer(),\n",
       "                                                                   ['Length',\n",
       "                                                                    'Diameter'])])),\n",
       "                                 ('scaler', StandardScaler())])),\n",
       "                ('rf', RandomForestRegressor(max_depth=6, n_estimators=400))])"
      ]
     },
     "execution_count": 177,
     "metadata": {},
     "output_type": "execute_result"
    }
   ],
   "source": [
    "gs_res.best_estimator_"
   ]
  },
  {
   "cell_type": "code",
   "execution_count": 178,
   "id": "5b2156e0",
   "metadata": {},
   "outputs": [
    {
     "data": {
      "text/plain": [
       "0.4015247747776196"
      ]
     },
     "execution_count": 178,
     "metadata": {},
     "output_type": "execute_result"
    }
   ],
   "source": [
    "gs_res.best_score_"
   ]
  },
  {
   "cell_type": "code",
   "execution_count": 155,
   "id": "157840b9",
   "metadata": {
    "scrolled": true
   },
   "outputs": [
    {
     "data": {
      "text/plain": [
       "(2923, 8)"
      ]
     },
     "execution_count": 155,
     "metadata": {},
     "output_type": "execute_result"
    }
   ],
   "source": [
    "preproc.fit_transform(X_train).shape"
   ]
  },
  {
   "cell_type": "code",
   "execution_count": 172,
   "id": "57cc18bb",
   "metadata": {},
   "outputs": [
    {
     "name": "stdout",
     "output_type": "stream",
     "text": [
      "abs error:  -1.5254189963807714\n",
      "% error:  -0.13003147892577482\n",
      "r2:  0.5461044022951305\n"
     ]
    }
   ],
   "source": [
    "best_rf = Pipeline([\n",
    "    ('preproc', preproc),\n",
    "    ('rf', RandomForestRegressor(max_depth=8, n_estimators=400))  \n",
    "])\n",
    "\n",
    "\n",
    "res = cross_validate(best_rf, \n",
    "               X_train, \n",
    "               y_train, \n",
    "               cv = 5, \n",
    "               scoring = ['neg_mean_absolute_error','neg_mean_absolute_percentage_error', 'r2'])\n",
    "\n",
    "print('abs error: ', res['test_neg_mean_absolute_error'].mean())\n",
    "print('% error: ', res['test_neg_mean_absolute_percentage_error'].mean())\n",
    "print('r2: ', res['test_r2'].mean())"
   ]
  },
  {
   "cell_type": "code",
   "execution_count": 194,
   "id": "91eaf8a5",
   "metadata": {},
   "outputs": [],
   "source": [
    "small_rf = Pipeline([\n",
    "    ('preproc', preproc),\n",
    "    ('rf', RandomForestRegressor(max_depth=6, n_estimators=400))  \n",
    "])\n",
    " "
   ]
  },
  {
   "cell_type": "code",
   "execution_count": 179,
   "id": "e7e35538",
   "metadata": {},
   "outputs": [
    {
     "name": "stdout",
     "output_type": "stream",
     "text": [
      "abs error:  -1.772041407011553\n",
      "% error:  -0.14995807528448585\n",
      "r2:  0.40173318011294723\n"
     ]
    }
   ],
   "source": [
    "res = cross_validate(small_rf, \n",
    "               X_train_alive, \n",
    "               y_train, \n",
    "               cv = 5, \n",
    "               scoring = ['neg_mean_absolute_error','neg_mean_absolute_percentage_error', 'r2'])\n",
    "\n",
    "print('abs error: ', res['test_neg_mean_absolute_error'].mean())\n",
    "print('% error: ', res['test_neg_mean_absolute_percentage_error'].mean())\n",
    "print('r2: ', res['test_r2'].mean())"
   ]
  },
  {
   "cell_type": "code",
   "execution_count": 196,
   "id": "b5d74823",
   "metadata": {},
   "outputs": [
    {
     "data": {
      "text/plain": [
       "Pipeline(steps=[('preproc',\n",
       "                 Pipeline(steps=[('encoder',\n",
       "                                  ColumnTransformer(remainder='passthrough',\n",
       "                                                    transformers=[('ohe',\n",
       "                                                                   OneHotEncoder(drop='first'),\n",
       "                                                                   ['Sex']),\n",
       "                                                                  ('area',\n",
       "                                                                   AreaTransformer(),\n",
       "                                                                   ['Length',\n",
       "                                                                    'Diameter'])])),\n",
       "                                 ('scaler', StandardScaler())])),\n",
       "                ('rf', RandomForestRegressor(max_depth=6, n_estimators=400))])"
      ]
     },
     "execution_count": 196,
     "metadata": {},
     "output_type": "execute_result"
    }
   ],
   "source": [
    "small_rf.fit(X_train_alive, y_train)"
   ]
  },
  {
   "cell_type": "code",
   "execution_count": 198,
   "id": "c17dec39",
   "metadata": {},
   "outputs": [],
   "source": [
    "y_pred = small_rf.predict(X_test_alive)"
   ]
  },
  {
   "cell_type": "code",
   "execution_count": 199,
   "id": "4bf9e319",
   "metadata": {},
   "outputs": [],
   "source": [
    "e = y_test - y_pred"
   ]
  },
  {
   "cell_type": "code",
   "execution_count": 201,
   "id": "ee0a3c6a",
   "metadata": {},
   "outputs": [
    {
     "data": {
      "text/plain": [
       "(array([  3.,   3.,   4.,   6.,   9.,  24.,  32.,  74.,  84., 142., 124.,\n",
       "        158.,  92., 110.,  76.,  59.,  46.,  35.,  28.,  24.,  25.,  10.,\n",
       "         18.,   8.,   7.,   7.,   9.,   5.,   8.,   2.,   3.,   4.,   1.,\n",
       "          6.,   1.,   1.,   4.,   0.,   0.,   1.,   0.,   0.,   0.,   0.,\n",
       "          0.,   0.,   0.,   0.,   0.,   1.]),\n",
       " array([-5.80380554, -5.34313352, -4.8824615 , -4.42178949, -3.96111747,\n",
       "        -3.50044546, -3.03977344, -2.57910142, -2.11842941, -1.65775739,\n",
       "        -1.19708537, -0.73641336, -0.27574134,  0.18493068,  0.64560269,\n",
       "         1.10627471,  1.56694673,  2.02761874,  2.48829076,  2.94896278,\n",
       "         3.40963479,  3.87030681,  4.33097883,  4.79165084,  5.25232286,\n",
       "         5.71299488,  6.17366689,  6.63433891,  7.09501093,  7.55568294,\n",
       "         8.01635496,  8.47702697,  8.93769899,  9.39837101,  9.85904302,\n",
       "        10.31971504, 10.78038706, 11.24105907, 11.70173109, 12.16240311,\n",
       "        12.62307512, 13.08374714, 13.54441916, 14.00509117, 14.46576319,\n",
       "        14.92643521, 15.38710722, 15.84777924, 16.30845126, 16.76912327,\n",
       "        17.22979529]),\n",
       " <BarContainer object of 50 artists>)"
      ]
     },
     "execution_count": 201,
     "metadata": {},
     "output_type": "execute_result"
    },
    {
     "data": {
      "image/png": "[encoded data removed]",
      "text/plain": [
       "<Figure size 432x288 with 1 Axes>"
      ]
     },
     "metadata": {
      "needs_background": "light"
     },
     "output_type": "display_data"
    }
   ],
   "source": [
    "plt.hist(e, bins = 50)"
   ]
  },
  {
   "cell_type": "code",
   "execution_count": null,
   "id": "25d19529",
   "metadata": {},
   "outputs": [],
   "source": [
    "# neural net classification"
   ]
  }
 ],
 "metadata": {
  "kernelspec": {
   "display_name": "Python 3 (ipykernel)",
   "language": "python",
   "name": "python3"
  },
  "language_info": {
   "codemirror_mode": {
    "name": "ipython",
    "version": 3
   },
   "file_extension": ".py",
   "mimetype": "text/x-python",
   "name": "python",
   "nbconvert_exporter": "python",
   "pygments_lexer": "ipython3",
   "version": "3.8.6"
  }
 },
 "nbformat": 4,
 "nbformat_minor": 5
}
