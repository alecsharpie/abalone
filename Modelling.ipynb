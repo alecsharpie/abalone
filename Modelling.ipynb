{
 "cells": [
  {
   "cell_type": "code",
   "execution_count": 238,
   "id": "3881cbf4",
   "metadata": {},
   "outputs": [],
   "source": [
    "import pandas as pd\n",
    "import numpy as np\n",
    "import matplotlib.pyplot as plt\n",
    "import seaborn as sns"
   ]
  },
  {
   "cell_type": "code",
   "execution_count": 425,
   "id": "abd3eedd",
   "metadata": {},
   "outputs": [],
   "source": [
    "from sklearn.preprocessing import MinMaxScaler\n",
    "from sklearn.preprocessing import StandardScaler\n",
    "from sklearn.preprocessing import OneHotEncoder\n",
    "from sklearn.pipeline import Pipeline\n",
    "from sklearn.compose import ColumnTransformer\n",
    "\n",
    "from sklearn.base import BaseEstimator, TransformerMixin\n",
    "\n",
    "from sklearn.model_selection import GridSearchCV\n",
    "\n",
    "from sklearn.ensemble import GradientBoostingRegressor\n",
    "from sklearn.ensemble import RandomForestRegressor\n",
    "from sklearn.linear_model import LinearRegression\n",
    "from sklearn.neighbors import KNeighborsRegressor\n",
    "from sklearn.svm import SVR\n",
    "\n",
    "from sklearn.ensemble import VotingRegressor\n",
    "\n",
    "from sklearn.model_selection import train_test_split\n",
    "from sklearn.model_selection import cross_validate\n",
    "\n",
    "from sklearn.metrics import mean_absolute_percentage_error\n",
    "from sklearn.metrics import SCORERS\n",
    "from sklearn.metrics import r2_score\n",
    "\n",
    "from fitter import Fitter, get_common_distributions, get_distributions"
   ]
  },
  {
   "cell_type": "code",
   "execution_count": 305,
   "id": "89732765",
   "metadata": {},
   "outputs": [],
   "source": [
    "df = pd.read_csv(\"abalone.csv\")"
   ]
  },
  {
   "cell_type": "code",
   "execution_count": 306,
   "id": "a45e73b1",
   "metadata": {},
   "outputs": [
    {
     "data": {
      "text/html": [
       "<div>\n",
       "<style scoped>\n",
       "    .dataframe tbody tr th:only-of-type {\n",
       "        vertical-align: middle;\n",
       "    }\n",
       "\n",
       "    .dataframe tbody tr th {\n",
       "        vertical-align: top;\n",
       "    }\n",
       "\n",
       "    .dataframe thead th {\n",
       "        text-align: right;\n",
       "    }\n",
       "</style>\n",
       "<table border=\"1\" class=\"dataframe\">\n",
       "  <thead>\n",
       "    <tr style=\"text-align: right;\">\n",
       "      <th></th>\n",
       "      <th>Sex</th>\n",
       "      <th>Length</th>\n",
       "      <th>Diameter</th>\n",
       "      <th>Height</th>\n",
       "      <th>Whole weight</th>\n",
       "      <th>Shucked weight</th>\n",
       "      <th>Viscera weight</th>\n",
       "      <th>Shell weight</th>\n",
       "      <th>Rings</th>\n",
       "    </tr>\n",
       "  </thead>\n",
       "  <tbody>\n",
       "    <tr>\n",
       "      <th>0</th>\n",
       "      <td>M</td>\n",
       "      <td>0.455</td>\n",
       "      <td>0.365</td>\n",
       "      <td>0.095</td>\n",
       "      <td>0.5140</td>\n",
       "      <td>0.2245</td>\n",
       "      <td>0.1010</td>\n",
       "      <td>0.15</td>\n",
       "      <td>15</td>\n",
       "    </tr>\n",
       "    <tr>\n",
       "      <th>1</th>\n",
       "      <td>M</td>\n",
       "      <td>0.350</td>\n",
       "      <td>0.265</td>\n",
       "      <td>0.090</td>\n",
       "      <td>0.2255</td>\n",
       "      <td>0.0995</td>\n",
       "      <td>0.0485</td>\n",
       "      <td>0.07</td>\n",
       "      <td>7</td>\n",
       "    </tr>\n",
       "  </tbody>\n",
       "</table>\n",
       "</div>"
      ],
      "text/plain": [
       "  Sex  Length  Diameter  Height  Whole weight  Shucked weight  Viscera weight  \\\n",
       "0   M   0.455     0.365   0.095        0.5140          0.2245          0.1010   \n",
       "1   M   0.350     0.265   0.090        0.2255          0.0995          0.0485   \n",
       "\n",
       "   Shell weight  Rings  \n",
       "0          0.15     15  \n",
       "1          0.07      7  "
      ]
     },
     "execution_count": 306,
     "metadata": {},
     "output_type": "execute_result"
    }
   ],
   "source": [
    "df.head(2)"
   ]
  },
  {
   "cell_type": "code",
   "execution_count": 307,
   "id": "d690aec4",
   "metadata": {},
   "outputs": [
    {
     "data": {
      "text/plain": [
       "array([15,  7,  9, 10,  8, 20, 16, 19, 14, 11, 12, 18, 13,  5,  4,  6, 21,\n",
       "       17, 22,  1,  3, 26, 23, 29,  2, 27, 25, 24])"
      ]
     },
     "execution_count": 307,
     "metadata": {},
     "output_type": "execute_result"
    }
   ],
   "source": [
    "df.Rings.unique()"
   ]
  },
  {
   "cell_type": "code",
   "execution_count": 308,
   "id": "9a571277",
   "metadata": {},
   "outputs": [],
   "source": [
    "X = df.drop(columns = 'Rings')"
   ]
  },
  {
   "cell_type": "code",
   "execution_count": null,
   "id": "83d885ef",
   "metadata": {},
   "outputs": [],
   "source": []
  },
  {
   "cell_type": "code",
   "execution_count": 309,
   "id": "e64d2da6",
   "metadata": {},
   "outputs": [],
   "source": [
    "df['age'] = df['Rings']+1.5\n",
    "y = df['age']"
   ]
  },
  {
   "cell_type": "code",
   "execution_count": 310,
   "id": "1032a391",
   "metadata": {},
   "outputs": [],
   "source": [
    "X_train, X_test, y_train, y_test = train_test_split(X, y, test_size = 0.3)"
   ]
  },
  {
   "cell_type": "code",
   "execution_count": 370,
   "id": "6a887ba7",
   "metadata": {},
   "outputs": [],
   "source": [
    "X_train_alive = X_train[['Length','Diameter','Height']]\n",
    "X_test_alive = X_test[['Length','Diameter','Height']]"
   ]
  },
  {
   "cell_type": "code",
   "execution_count": 371,
   "id": "8baace54",
   "metadata": {},
   "outputs": [
    {
     "data": {
      "text/html": [
       "<div>\n",
       "<style scoped>\n",
       "    .dataframe tbody tr th:only-of-type {\n",
       "        vertical-align: middle;\n",
       "    }\n",
       "\n",
       "    .dataframe tbody tr th {\n",
       "        vertical-align: top;\n",
       "    }\n",
       "\n",
       "    .dataframe thead th {\n",
       "        text-align: right;\n",
       "    }\n",
       "</style>\n",
       "<table border=\"1\" class=\"dataframe\">\n",
       "  <thead>\n",
       "    <tr style=\"text-align: right;\">\n",
       "      <th></th>\n",
       "      <th>Length</th>\n",
       "      <th>Diameter</th>\n",
       "      <th>Height</th>\n",
       "    </tr>\n",
       "  </thead>\n",
       "  <tbody>\n",
       "    <tr>\n",
       "      <th>1734</th>\n",
       "      <td>0.67</td>\n",
       "      <td>0.505</td>\n",
       "      <td>0.16</td>\n",
       "    </tr>\n",
       "    <tr>\n",
       "      <th>361</th>\n",
       "      <td>0.59</td>\n",
       "      <td>0.465</td>\n",
       "      <td>0.15</td>\n",
       "    </tr>\n",
       "  </tbody>\n",
       "</table>\n",
       "</div>"
      ],
      "text/plain": [
       "      Length  Diameter  Height\n",
       "1734    0.67     0.505    0.16\n",
       "361     0.59     0.465    0.15"
      ]
     },
     "execution_count": 371,
     "metadata": {},
     "output_type": "execute_result"
    }
   ],
   "source": [
    "X_train_alive.head(2)"
   ]
  },
  {
   "cell_type": "code",
   "execution_count": 372,
   "id": "538ab2e6",
   "metadata": {},
   "outputs": [],
   "source": [
    "import math\n",
    "\n",
    "class AreaTransformer(BaseEstimator, TransformerMixin):\n",
    "\n",
    "    def fit(self, X, y=None):\n",
    "        return self\n",
    "    \n",
    "    def transform(self, X, y=None):\n",
    "        '''A=πab'''\n",
    "        X_ = X.copy()\n",
    "        X_[\"area\"] = math.pi * X_['Length']/2 * X_['Diameter']/2\n",
    "        return X_[[\"area\"]]"
   ]
  },
  {
   "cell_type": "code",
   "execution_count": 380,
   "id": "e5d26ba7",
   "metadata": {},
   "outputs": [],
   "source": [
    "trans = ColumnTransformer(\n",
    "    [#('ohe', OneHotEncoder(drop = 'first'), ['Sex']),\n",
    "    ('area', AreaTransformer(), ['Length', 'Diameter'])],\n",
    "    remainder = 'passthrough')"
   ]
  },
  {
   "cell_type": "code",
   "execution_count": 381,
   "id": "b47cf93b",
   "metadata": {},
   "outputs": [],
   "source": [
    "preproc = Pipeline([\n",
    "    ('encoder', trans),\n",
    "    ('scaler', StandardScaler())\n",
    "])"
   ]
  },
  {
   "cell_type": "code",
   "execution_count": 375,
   "id": "6262120f",
   "metadata": {},
   "outputs": [],
   "source": [
    "lin_reg = Pipeline([\n",
    "    ('preproc', preproc),\n",
    "    ('model', LinearRegression())\n",
    "])"
   ]
  },
  {
   "cell_type": "code",
   "execution_count": 376,
   "id": "f8955da1",
   "metadata": {},
   "outputs": [
    {
     "name": "stdout",
     "output_type": "stream",
     "text": [
      "abs error:  -1.5987192095804375\n",
      "% error:  -0.13884715558894034\n",
      "r2:  0.5109594159403119\n"
     ]
    }
   ],
   "source": [
    "res = cross_validate(lin_reg, \n",
    "               X_train, \n",
    "               y_train, \n",
    "               cv = 5, \n",
    "               scoring = ['neg_mean_absolute_error','neg_mean_absolute_percentage_error', 'r2'])\n",
    "\n",
    "print('abs error: ', res['test_neg_mean_absolute_error'].mean())\n",
    "print('% error: ', res['test_neg_mean_absolute_percentage_error'].mean())\n",
    "print('r2: ', res['test_r2'].mean())"
   ]
  },
  {
   "cell_type": "code",
   "execution_count": 377,
   "id": "39a645cd",
   "metadata": {},
   "outputs": [
    {
     "name": "stdout",
     "output_type": "stream",
     "text": [
      "abs error:  nan\n",
      "% error:  nan\n",
      "r2:  nan\n"
     ]
    },
    {
     "name": "stderr",
     "output_type": "stream",
     "text": [
      "/Users/alecsharp/.pyenv/versions/3.8.6/envs/lewagon/lib/python3.8/site-packages/sklearn/model_selection/_validation.py:615: FitFailedWarning: Estimator fit failed. The score on this train-test partition for these parameters will be set to nan. Details: \n",
      "Traceback (most recent call last):\n",
      "  File \"/Users/alecsharp/.pyenv/versions/3.8.6/envs/lewagon/lib/python3.8/site-packages/pandas/core/indexes/base.py\", line 2895, in get_loc\n",
      "    return self._engine.get_loc(casted_key)\n",
      "  File \"pandas/_libs/index.pyx\", line 70, in pandas._libs.index.IndexEngine.get_loc\n",
      "  File \"pandas/_libs/index.pyx\", line 101, in pandas._libs.index.IndexEngine.get_loc\n",
      "  File \"pandas/_libs/hashtable_class_helper.pxi\", line 1675, in pandas._libs.hashtable.PyObjectHashTable.get_item\n",
      "  File \"pandas/_libs/hashtable_class_helper.pxi\", line 1683, in pandas._libs.hashtable.PyObjectHashTable.get_item\n",
      "KeyError: 'Sex'\n",
      "\n",
      "The above exception was the direct cause of the following exception:\n",
      "\n",
      "Traceback (most recent call last):\n",
      "  File \"/Users/alecsharp/.pyenv/versions/3.8.6/envs/lewagon/lib/python3.8/site-packages/sklearn/utils/__init__.py\", line 396, in _get_column_indices\n",
      "    col_idx = all_columns.get_loc(col)\n",
      "  File \"/Users/alecsharp/.pyenv/versions/3.8.6/envs/lewagon/lib/python3.8/site-packages/pandas/core/indexes/base.py\", line 2897, in get_loc\n",
      "    raise KeyError(key) from err\n",
      "KeyError: 'Sex'\n",
      "\n",
      "The above exception was the direct cause of the following exception:\n",
      "\n",
      "Traceback (most recent call last):\n",
      "  File \"/Users/alecsharp/.pyenv/versions/3.8.6/envs/lewagon/lib/python3.8/site-packages/sklearn/model_selection/_validation.py\", line 598, in _fit_and_score\n",
      "    estimator.fit(X_train, y_train, **fit_params)\n",
      "  File \"/Users/alecsharp/.pyenv/versions/3.8.6/envs/lewagon/lib/python3.8/site-packages/sklearn/pipeline.py\", line 341, in fit\n",
      "    Xt = self._fit(X, y, **fit_params_steps)\n",
      "  File \"/Users/alecsharp/.pyenv/versions/3.8.6/envs/lewagon/lib/python3.8/site-packages/sklearn/pipeline.py\", line 303, in _fit\n",
      "    X, fitted_transformer = fit_transform_one_cached(\n",
      "  File \"/Users/alecsharp/.pyenv/versions/3.8.6/envs/lewagon/lib/python3.8/site-packages/joblib/memory.py\", line 352, in __call__\n",
      "    return self.func(*args, **kwargs)\n",
      "  File \"/Users/alecsharp/.pyenv/versions/3.8.6/envs/lewagon/lib/python3.8/site-packages/sklearn/pipeline.py\", line 754, in _fit_transform_one\n",
      "    res = transformer.fit_transform(X, y, **fit_params)\n",
      "  File \"/Users/alecsharp/.pyenv/versions/3.8.6/envs/lewagon/lib/python3.8/site-packages/sklearn/pipeline.py\", line 378, in fit_transform\n",
      "    Xt = self._fit(X, y, **fit_params_steps)\n",
      "  File \"/Users/alecsharp/.pyenv/versions/3.8.6/envs/lewagon/lib/python3.8/site-packages/sklearn/pipeline.py\", line 303, in _fit\n",
      "    X, fitted_transformer = fit_transform_one_cached(\n",
      "  File \"/Users/alecsharp/.pyenv/versions/3.8.6/envs/lewagon/lib/python3.8/site-packages/joblib/memory.py\", line 352, in __call__\n",
      "    return self.func(*args, **kwargs)\n",
      "  File \"/Users/alecsharp/.pyenv/versions/3.8.6/envs/lewagon/lib/python3.8/site-packages/sklearn/pipeline.py\", line 754, in _fit_transform_one\n",
      "    res = transformer.fit_transform(X, y, **fit_params)\n",
      "  File \"/Users/alecsharp/.pyenv/versions/3.8.6/envs/lewagon/lib/python3.8/site-packages/sklearn/compose/_column_transformer.py\", line 505, in fit_transform\n",
      "    self._validate_remainder(X)\n",
      "  File \"/Users/alecsharp/.pyenv/versions/3.8.6/envs/lewagon/lib/python3.8/site-packages/sklearn/compose/_column_transformer.py\", line 332, in _validate_remainder\n",
      "    cols.extend(_get_column_indices(X, columns))\n",
      "  File \"/Users/alecsharp/.pyenv/versions/3.8.6/envs/lewagon/lib/python3.8/site-packages/sklearn/utils/__init__.py\", line 403, in _get_column_indices\n",
      "    raise ValueError(\n",
      "ValueError: A given column is not a column of the dataframe\n",
      "\n",
      "  warnings.warn(\"Estimator fit failed. The score on this train-test\"\n",
      "/Users/alecsharp/.pyenv/versions/3.8.6/envs/lewagon/lib/python3.8/site-packages/sklearn/model_selection/_validation.py:615: FitFailedWarning: Estimator fit failed. The score on this train-test partition for these parameters will be set to nan. Details: \n",
      "Traceback (most recent call last):\n",
      "  File \"/Users/alecsharp/.pyenv/versions/3.8.6/envs/lewagon/lib/python3.8/site-packages/pandas/core/indexes/base.py\", line 2895, in get_loc\n",
      "    return self._engine.get_loc(casted_key)\n",
      "  File \"pandas/_libs/index.pyx\", line 70, in pandas._libs.index.IndexEngine.get_loc\n",
      "  File \"pandas/_libs/index.pyx\", line 101, in pandas._libs.index.IndexEngine.get_loc\n",
      "  File \"pandas/_libs/hashtable_class_helper.pxi\", line 1675, in pandas._libs.hashtable.PyObjectHashTable.get_item\n",
      "  File \"pandas/_libs/hashtable_class_helper.pxi\", line 1683, in pandas._libs.hashtable.PyObjectHashTable.get_item\n",
      "KeyError: 'Sex'\n",
      "\n",
      "The above exception was the direct cause of the following exception:\n",
      "\n",
      "Traceback (most recent call last):\n",
      "  File \"/Users/alecsharp/.pyenv/versions/3.8.6/envs/lewagon/lib/python3.8/site-packages/sklearn/utils/__init__.py\", line 396, in _get_column_indices\n",
      "    col_idx = all_columns.get_loc(col)\n",
      "  File \"/Users/alecsharp/.pyenv/versions/3.8.6/envs/lewagon/lib/python3.8/site-packages/pandas/core/indexes/base.py\", line 2897, in get_loc\n",
      "    raise KeyError(key) from err\n",
      "KeyError: 'Sex'\n",
      "\n",
      "The above exception was the direct cause of the following exception:\n",
      "\n",
      "Traceback (most recent call last):\n",
      "  File \"/Users/alecsharp/.pyenv/versions/3.8.6/envs/lewagon/lib/python3.8/site-packages/sklearn/model_selection/_validation.py\", line 598, in _fit_and_score\n",
      "    estimator.fit(X_train, y_train, **fit_params)\n",
      "  File \"/Users/alecsharp/.pyenv/versions/3.8.6/envs/lewagon/lib/python3.8/site-packages/sklearn/pipeline.py\", line 341, in fit\n",
      "    Xt = self._fit(X, y, **fit_params_steps)\n",
      "  File \"/Users/alecsharp/.pyenv/versions/3.8.6/envs/lewagon/lib/python3.8/site-packages/sklearn/pipeline.py\", line 303, in _fit\n",
      "    X, fitted_transformer = fit_transform_one_cached(\n",
      "  File \"/Users/alecsharp/.pyenv/versions/3.8.6/envs/lewagon/lib/python3.8/site-packages/joblib/memory.py\", line 352, in __call__\n",
      "    return self.func(*args, **kwargs)\n",
      "  File \"/Users/alecsharp/.pyenv/versions/3.8.6/envs/lewagon/lib/python3.8/site-packages/sklearn/pipeline.py\", line 754, in _fit_transform_one\n",
      "    res = transformer.fit_transform(X, y, **fit_params)\n",
      "  File \"/Users/alecsharp/.pyenv/versions/3.8.6/envs/lewagon/lib/python3.8/site-packages/sklearn/pipeline.py\", line 378, in fit_transform\n",
      "    Xt = self._fit(X, y, **fit_params_steps)\n",
      "  File \"/Users/alecsharp/.pyenv/versions/3.8.6/envs/lewagon/lib/python3.8/site-packages/sklearn/pipeline.py\", line 303, in _fit\n",
      "    X, fitted_transformer = fit_transform_one_cached(\n",
      "  File \"/Users/alecsharp/.pyenv/versions/3.8.6/envs/lewagon/lib/python3.8/site-packages/joblib/memory.py\", line 352, in __call__\n",
      "    return self.func(*args, **kwargs)\n",
      "  File \"/Users/alecsharp/.pyenv/versions/3.8.6/envs/lewagon/lib/python3.8/site-packages/sklearn/pipeline.py\", line 754, in _fit_transform_one\n",
      "    res = transformer.fit_transform(X, y, **fit_params)\n",
      "  File \"/Users/alecsharp/.pyenv/versions/3.8.6/envs/lewagon/lib/python3.8/site-packages/sklearn/compose/_column_transformer.py\", line 505, in fit_transform\n",
      "    self._validate_remainder(X)\n",
      "  File \"/Users/alecsharp/.pyenv/versions/3.8.6/envs/lewagon/lib/python3.8/site-packages/sklearn/compose/_column_transformer.py\", line 332, in _validate_remainder\n",
      "    cols.extend(_get_column_indices(X, columns))\n",
      "  File \"/Users/alecsharp/.pyenv/versions/3.8.6/envs/lewagon/lib/python3.8/site-packages/sklearn/utils/__init__.py\", line 403, in _get_column_indices\n",
      "    raise ValueError(\n",
      "ValueError: A given column is not a column of the dataframe\n",
      "\n",
      "  warnings.warn(\"Estimator fit failed. The score on this train-test\"\n",
      "/Users/alecsharp/.pyenv/versions/3.8.6/envs/lewagon/lib/python3.8/site-packages/sklearn/model_selection/_validation.py:615: FitFailedWarning: Estimator fit failed. The score on this train-test partition for these parameters will be set to nan. Details: \n",
      "Traceback (most recent call last):\n",
      "  File \"/Users/alecsharp/.pyenv/versions/3.8.6/envs/lewagon/lib/python3.8/site-packages/pandas/core/indexes/base.py\", line 2895, in get_loc\n",
      "    return self._engine.get_loc(casted_key)\n",
      "  File \"pandas/_libs/index.pyx\", line 70, in pandas._libs.index.IndexEngine.get_loc\n",
      "  File \"pandas/_libs/index.pyx\", line 101, in pandas._libs.index.IndexEngine.get_loc\n",
      "  File \"pandas/_libs/hashtable_class_helper.pxi\", line 1675, in pandas._libs.hashtable.PyObjectHashTable.get_item\n",
      "  File \"pandas/_libs/hashtable_class_helper.pxi\", line 1683, in pandas._libs.hashtable.PyObjectHashTable.get_item\n",
      "KeyError: 'Sex'\n",
      "\n",
      "The above exception was the direct cause of the following exception:\n",
      "\n",
      "Traceback (most recent call last):\n",
      "  File \"/Users/alecsharp/.pyenv/versions/3.8.6/envs/lewagon/lib/python3.8/site-packages/sklearn/utils/__init__.py\", line 396, in _get_column_indices\n",
      "    col_idx = all_columns.get_loc(col)\n",
      "  File \"/Users/alecsharp/.pyenv/versions/3.8.6/envs/lewagon/lib/python3.8/site-packages/pandas/core/indexes/base.py\", line 2897, in get_loc\n",
      "    raise KeyError(key) from err\n",
      "KeyError: 'Sex'\n",
      "\n",
      "The above exception was the direct cause of the following exception:\n",
      "\n",
      "Traceback (most recent call last):\n",
      "  File \"/Users/alecsharp/.pyenv/versions/3.8.6/envs/lewagon/lib/python3.8/site-packages/sklearn/model_selection/_validation.py\", line 598, in _fit_and_score\n",
      "    estimator.fit(X_train, y_train, **fit_params)\n",
      "  File \"/Users/alecsharp/.pyenv/versions/3.8.6/envs/lewagon/lib/python3.8/site-packages/sklearn/pipeline.py\", line 341, in fit\n",
      "    Xt = self._fit(X, y, **fit_params_steps)\n",
      "  File \"/Users/alecsharp/.pyenv/versions/3.8.6/envs/lewagon/lib/python3.8/site-packages/sklearn/pipeline.py\", line 303, in _fit\n",
      "    X, fitted_transformer = fit_transform_one_cached(\n",
      "  File \"/Users/alecsharp/.pyenv/versions/3.8.6/envs/lewagon/lib/python3.8/site-packages/joblib/memory.py\", line 352, in __call__\n",
      "    return self.func(*args, **kwargs)\n",
      "  File \"/Users/alecsharp/.pyenv/versions/3.8.6/envs/lewagon/lib/python3.8/site-packages/sklearn/pipeline.py\", line 754, in _fit_transform_one\n",
      "    res = transformer.fit_transform(X, y, **fit_params)\n",
      "  File \"/Users/alecsharp/.pyenv/versions/3.8.6/envs/lewagon/lib/python3.8/site-packages/sklearn/pipeline.py\", line 378, in fit_transform\n",
      "    Xt = self._fit(X, y, **fit_params_steps)\n",
      "  File \"/Users/alecsharp/.pyenv/versions/3.8.6/envs/lewagon/lib/python3.8/site-packages/sklearn/pipeline.py\", line 303, in _fit\n",
      "    X, fitted_transformer = fit_transform_one_cached(\n",
      "  File \"/Users/alecsharp/.pyenv/versions/3.8.6/envs/lewagon/lib/python3.8/site-packages/joblib/memory.py\", line 352, in __call__\n",
      "    return self.func(*args, **kwargs)\n",
      "  File \"/Users/alecsharp/.pyenv/versions/3.8.6/envs/lewagon/lib/python3.8/site-packages/sklearn/pipeline.py\", line 754, in _fit_transform_one\n",
      "    res = transformer.fit_transform(X, y, **fit_params)\n",
      "  File \"/Users/alecsharp/.pyenv/versions/3.8.6/envs/lewagon/lib/python3.8/site-packages/sklearn/compose/_column_transformer.py\", line 505, in fit_transform\n",
      "    self._validate_remainder(X)\n",
      "  File \"/Users/alecsharp/.pyenv/versions/3.8.6/envs/lewagon/lib/python3.8/site-packages/sklearn/compose/_column_transformer.py\", line 332, in _validate_remainder\n",
      "    cols.extend(_get_column_indices(X, columns))\n",
      "  File \"/Users/alecsharp/.pyenv/versions/3.8.6/envs/lewagon/lib/python3.8/site-packages/sklearn/utils/__init__.py\", line 403, in _get_column_indices\n",
      "    raise ValueError(\n",
      "ValueError: A given column is not a column of the dataframe\n",
      "\n",
      "  warnings.warn(\"Estimator fit failed. The score on this train-test\"\n",
      "/Users/alecsharp/.pyenv/versions/3.8.6/envs/lewagon/lib/python3.8/site-packages/sklearn/model_selection/_validation.py:615: FitFailedWarning: Estimator fit failed. The score on this train-test partition for these parameters will be set to nan. Details: \n",
      "Traceback (most recent call last):\n",
      "  File \"/Users/alecsharp/.pyenv/versions/3.8.6/envs/lewagon/lib/python3.8/site-packages/pandas/core/indexes/base.py\", line 2895, in get_loc\n",
      "    return self._engine.get_loc(casted_key)\n",
      "  File \"pandas/_libs/index.pyx\", line 70, in pandas._libs.index.IndexEngine.get_loc\n",
      "  File \"pandas/_libs/index.pyx\", line 101, in pandas._libs.index.IndexEngine.get_loc\n",
      "  File \"pandas/_libs/hashtable_class_helper.pxi\", line 1675, in pandas._libs.hashtable.PyObjectHashTable.get_item\n",
      "  File \"pandas/_libs/hashtable_class_helper.pxi\", line 1683, in pandas._libs.hashtable.PyObjectHashTable.get_item\n",
      "KeyError: 'Sex'\n",
      "\n",
      "The above exception was the direct cause of the following exception:\n",
      "\n",
      "Traceback (most recent call last):\n",
      "  File \"/Users/alecsharp/.pyenv/versions/3.8.6/envs/lewagon/lib/python3.8/site-packages/sklearn/utils/__init__.py\", line 396, in _get_column_indices\n",
      "    col_idx = all_columns.get_loc(col)\n",
      "  File \"/Users/alecsharp/.pyenv/versions/3.8.6/envs/lewagon/lib/python3.8/site-packages/pandas/core/indexes/base.py\", line 2897, in get_loc\n",
      "    raise KeyError(key) from err\n",
      "KeyError: 'Sex'\n",
      "\n",
      "The above exception was the direct cause of the following exception:\n",
      "\n",
      "Traceback (most recent call last):\n",
      "  File \"/Users/alecsharp/.pyenv/versions/3.8.6/envs/lewagon/lib/python3.8/site-packages/sklearn/model_selection/_validation.py\", line 598, in _fit_and_score\n",
      "    estimator.fit(X_train, y_train, **fit_params)\n",
      "  File \"/Users/alecsharp/.pyenv/versions/3.8.6/envs/lewagon/lib/python3.8/site-packages/sklearn/pipeline.py\", line 341, in fit\n",
      "    Xt = self._fit(X, y, **fit_params_steps)\n",
      "  File \"/Users/alecsharp/.pyenv/versions/3.8.6/envs/lewagon/lib/python3.8/site-packages/sklearn/pipeline.py\", line 303, in _fit\n",
      "    X, fitted_transformer = fit_transform_one_cached(\n",
      "  File \"/Users/alecsharp/.pyenv/versions/3.8.6/envs/lewagon/lib/python3.8/site-packages/joblib/memory.py\", line 352, in __call__\n",
      "    return self.func(*args, **kwargs)\n",
      "  File \"/Users/alecsharp/.pyenv/versions/3.8.6/envs/lewagon/lib/python3.8/site-packages/sklearn/pipeline.py\", line 754, in _fit_transform_one\n",
      "    res = transformer.fit_transform(X, y, **fit_params)\n",
      "  File \"/Users/alecsharp/.pyenv/versions/3.8.6/envs/lewagon/lib/python3.8/site-packages/sklearn/pipeline.py\", line 378, in fit_transform\n",
      "    Xt = self._fit(X, y, **fit_params_steps)\n",
      "  File \"/Users/alecsharp/.pyenv/versions/3.8.6/envs/lewagon/lib/python3.8/site-packages/sklearn/pipeline.py\", line 303, in _fit\n",
      "    X, fitted_transformer = fit_transform_one_cached(\n",
      "  File \"/Users/alecsharp/.pyenv/versions/3.8.6/envs/lewagon/lib/python3.8/site-packages/joblib/memory.py\", line 352, in __call__\n",
      "    return self.func(*args, **kwargs)\n",
      "  File \"/Users/alecsharp/.pyenv/versions/3.8.6/envs/lewagon/lib/python3.8/site-packages/sklearn/pipeline.py\", line 754, in _fit_transform_one\n",
      "    res = transformer.fit_transform(X, y, **fit_params)\n",
      "  File \"/Users/alecsharp/.pyenv/versions/3.8.6/envs/lewagon/lib/python3.8/site-packages/sklearn/compose/_column_transformer.py\", line 505, in fit_transform\n",
      "    self._validate_remainder(X)\n",
      "  File \"/Users/alecsharp/.pyenv/versions/3.8.6/envs/lewagon/lib/python3.8/site-packages/sklearn/compose/_column_transformer.py\", line 332, in _validate_remainder\n",
      "    cols.extend(_get_column_indices(X, columns))\n",
      "  File \"/Users/alecsharp/.pyenv/versions/3.8.6/envs/lewagon/lib/python3.8/site-packages/sklearn/utils/__init__.py\", line 403, in _get_column_indices\n",
      "    raise ValueError(\n",
      "ValueError: A given column is not a column of the dataframe\n",
      "\n",
      "  warnings.warn(\"Estimator fit failed. The score on this train-test\"\n",
      "/Users/alecsharp/.pyenv/versions/3.8.6/envs/lewagon/lib/python3.8/site-packages/sklearn/model_selection/_validation.py:615: FitFailedWarning: Estimator fit failed. The score on this train-test partition for these parameters will be set to nan. Details: \n",
      "Traceback (most recent call last):\n",
      "  File \"/Users/alecsharp/.pyenv/versions/3.8.6/envs/lewagon/lib/python3.8/site-packages/pandas/core/indexes/base.py\", line 2895, in get_loc\n",
      "    return self._engine.get_loc(casted_key)\n",
      "  File \"pandas/_libs/index.pyx\", line 70, in pandas._libs.index.IndexEngine.get_loc\n",
      "  File \"pandas/_libs/index.pyx\", line 101, in pandas._libs.index.IndexEngine.get_loc\n",
      "  File \"pandas/_libs/hashtable_class_helper.pxi\", line 1675, in pandas._libs.hashtable.PyObjectHashTable.get_item\n",
      "  File \"pandas/_libs/hashtable_class_helper.pxi\", line 1683, in pandas._libs.hashtable.PyObjectHashTable.get_item\n",
      "KeyError: 'Sex'\n",
      "\n",
      "The above exception was the direct cause of the following exception:\n",
      "\n",
      "Traceback (most recent call last):\n",
      "  File \"/Users/alecsharp/.pyenv/versions/3.8.6/envs/lewagon/lib/python3.8/site-packages/sklearn/utils/__init__.py\", line 396, in _get_column_indices\n",
      "    col_idx = all_columns.get_loc(col)\n",
      "  File \"/Users/alecsharp/.pyenv/versions/3.8.6/envs/lewagon/lib/python3.8/site-packages/pandas/core/indexes/base.py\", line 2897, in get_loc\n",
      "    raise KeyError(key) from err\n",
      "KeyError: 'Sex'\n",
      "\n",
      "The above exception was the direct cause of the following exception:\n",
      "\n",
      "Traceback (most recent call last):\n",
      "  File \"/Users/alecsharp/.pyenv/versions/3.8.6/envs/lewagon/lib/python3.8/site-packages/sklearn/model_selection/_validation.py\", line 598, in _fit_and_score\n",
      "    estimator.fit(X_train, y_train, **fit_params)\n",
      "  File \"/Users/alecsharp/.pyenv/versions/3.8.6/envs/lewagon/lib/python3.8/site-packages/sklearn/pipeline.py\", line 341, in fit\n",
      "    Xt = self._fit(X, y, **fit_params_steps)\n",
      "  File \"/Users/alecsharp/.pyenv/versions/3.8.6/envs/lewagon/lib/python3.8/site-packages/sklearn/pipeline.py\", line 303, in _fit\n",
      "    X, fitted_transformer = fit_transform_one_cached(\n",
      "  File \"/Users/alecsharp/.pyenv/versions/3.8.6/envs/lewagon/lib/python3.8/site-packages/joblib/memory.py\", line 352, in __call__\n",
      "    return self.func(*args, **kwargs)\n",
      "  File \"/Users/alecsharp/.pyenv/versions/3.8.6/envs/lewagon/lib/python3.8/site-packages/sklearn/pipeline.py\", line 754, in _fit_transform_one\n",
      "    res = transformer.fit_transform(X, y, **fit_params)\n",
      "  File \"/Users/alecsharp/.pyenv/versions/3.8.6/envs/lewagon/lib/python3.8/site-packages/sklearn/pipeline.py\", line 378, in fit_transform\n",
      "    Xt = self._fit(X, y, **fit_params_steps)\n",
      "  File \"/Users/alecsharp/.pyenv/versions/3.8.6/envs/lewagon/lib/python3.8/site-packages/sklearn/pipeline.py\", line 303, in _fit\n",
      "    X, fitted_transformer = fit_transform_one_cached(\n",
      "  File \"/Users/alecsharp/.pyenv/versions/3.8.6/envs/lewagon/lib/python3.8/site-packages/joblib/memory.py\", line 352, in __call__\n",
      "    return self.func(*args, **kwargs)\n",
      "  File \"/Users/alecsharp/.pyenv/versions/3.8.6/envs/lewagon/lib/python3.8/site-packages/sklearn/pipeline.py\", line 754, in _fit_transform_one\n",
      "    res = transformer.fit_transform(X, y, **fit_params)\n",
      "  File \"/Users/alecsharp/.pyenv/versions/3.8.6/envs/lewagon/lib/python3.8/site-packages/sklearn/compose/_column_transformer.py\", line 505, in fit_transform\n",
      "    self._validate_remainder(X)\n",
      "  File \"/Users/alecsharp/.pyenv/versions/3.8.6/envs/lewagon/lib/python3.8/site-packages/sklearn/compose/_column_transformer.py\", line 332, in _validate_remainder\n",
      "    cols.extend(_get_column_indices(X, columns))\n",
      "  File \"/Users/alecsharp/.pyenv/versions/3.8.6/envs/lewagon/lib/python3.8/site-packages/sklearn/utils/__init__.py\", line 403, in _get_column_indices\n",
      "    raise ValueError(\n",
      "ValueError: A given column is not a column of the dataframe\n",
      "\n",
      "  warnings.warn(\"Estimator fit failed. The score on this train-test\"\n"
     ]
    }
   ],
   "source": [
    "gbr = Pipeline([\n",
    "    ('preproc', preproc),\n",
    "    ('gbr', GradientBoostingRegressor(n_estimators=500,\n",
    "                               max_depth=3))\n",
    "])\n",
    "\n",
    "res = cross_validate(gbr, \n",
    "               X_train_alive, \n",
    "               y_train, \n",
    "               cv = 5, \n",
    "               scoring = ['neg_mean_absolute_error','neg_mean_absolute_percentage_error', 'r2'])\n",
    "\n",
    "print('abs error: ', res['test_neg_mean_absolute_error'].mean())\n",
    "print('% error: ', res['test_neg_mean_absolute_percentage_error'].mean())\n",
    "print('r2: ', res['test_r2'].mean())"
   ]
  },
  {
   "cell_type": "code",
   "execution_count": 334,
   "id": "0e3926a4",
   "metadata": {},
   "outputs": [
    {
     "name": "stdout",
     "output_type": "stream",
     "text": [
      "abs error:  -1.677687693204519\n",
      "% error:  -0.13410469309687983\n",
      "r2:  0.3799202146732559\n"
     ]
    }
   ],
   "source": [
    "svr = Pipeline([\n",
    "    ('preproc', preproc),\n",
    "    ('gbr', SVR(C=1.0, epsilon=0.2))\n",
    "])\n",
    "\n",
    "res = cross_validate(svr, \n",
    "               X_train_alive, \n",
    "               y_train, \n",
    "               cv = 5, \n",
    "               scoring = ['neg_mean_absolute_error','neg_mean_absolute_percentage_error', 'r2'])\n",
    "\n",
    "print('abs error: ', res['test_neg_mean_absolute_error'].mean())\n",
    "print('% error: ', res['test_neg_mean_absolute_percentage_error'].mean())\n",
    "print('r2: ', res['test_r2'].mean())"
   ]
  },
  {
   "cell_type": "code",
   "execution_count": 319,
   "id": "87a6aeda",
   "metadata": {},
   "outputs": [],
   "source": [
    "rf = Pipeline([\n",
    "    ('preproc', preproc),\n",
    "    ('rf', RandomForestRegressor(n_estimators = 400))  \n",
    "])\n"
   ]
  },
  {
   "cell_type": "code",
   "execution_count": 281,
   "id": "fd012f77",
   "metadata": {},
   "outputs": [
    {
     "name": "stdout",
     "output_type": "stream",
     "text": [
      "abs error:  -1.5467659641728133\n",
      "% error:  -0.13188797264792762\n",
      "r2:  0.5292445893175196\n"
     ]
    }
   ],
   "source": [
    "res = cross_validate(rf, \n",
    "               X_train, \n",
    "               y_train, \n",
    "               cv = 5, \n",
    "               scoring = ['neg_mean_absolute_error','neg_mean_absolute_percentage_error', 'r2'])\n",
    "\n",
    "print('abs error: ', res['test_neg_mean_absolute_error'].mean())\n",
    "print('% error: ', res['test_neg_mean_absolute_percentage_error'].mean())\n",
    "print('r2: ', res['test_r2'].mean())"
   ]
  },
  {
   "cell_type": "code",
   "execution_count": 282,
   "id": "01f32450",
   "metadata": {},
   "outputs": [],
   "source": [
    "knn = Pipeline([\n",
    "    ('preproc', preproc),\n",
    "    ('knn', KNeighborsRegressor(n_neighbors = 3))  \n",
    "])\n"
   ]
  },
  {
   "cell_type": "code",
   "execution_count": 283,
   "id": "03e5b7f5",
   "metadata": {},
   "outputs": [
    {
     "name": "stdout",
     "output_type": "stream",
     "text": [
      "abs error:  -2.04539612847832\n",
      "% error:  -0.1727723449122049\n",
      "r2:  0.20399350623578122\n"
     ]
    }
   ],
   "source": [
    "res = cross_validate(knn, \n",
    "               X_train_alive, \n",
    "               y_train, \n",
    "               cv = 5, \n",
    "               scoring = ['neg_mean_absolute_error','neg_mean_absolute_percentage_error', 'r2'])\n",
    "\n",
    "print('abs error: ', res['test_neg_mean_absolute_error'].mean())\n",
    "print('% error: ', res['test_neg_mean_absolute_percentage_error'].mean())\n",
    "print('r2: ', res['test_r2'].mean())"
   ]
  },
  {
   "cell_type": "code",
   "execution_count": 338,
   "id": "f259fb73",
   "metadata": {},
   "outputs": [
    {
     "data": {
      "text/plain": [
       "{'memory': None,\n",
       " 'steps': [('preproc', Pipeline(steps=[('encoder',\n",
       "                    ColumnTransformer(remainder='passthrough',\n",
       "                                      transformers=[('ohe',\n",
       "                                                     OneHotEncoder(drop='first'),\n",
       "                                                     ['Sex']),\n",
       "                                                    ('area', AreaTransformer(),\n",
       "                                                     ['Length', 'Diameter'])])),\n",
       "                   ('scaler', StandardScaler())])),\n",
       "  ('gbr', SVR(epsilon=0.2))],\n",
       " 'verbose': False,\n",
       " 'preproc': Pipeline(steps=[('encoder',\n",
       "                  ColumnTransformer(remainder='passthrough',\n",
       "                                    transformers=[('ohe',\n",
       "                                                   OneHotEncoder(drop='first'),\n",
       "                                                   ['Sex']),\n",
       "                                                  ('area', AreaTransformer(),\n",
       "                                                   ['Length', 'Diameter'])])),\n",
       "                 ('scaler', StandardScaler())]),\n",
       " 'gbr': SVR(epsilon=0.2),\n",
       " 'preproc__memory': None,\n",
       " 'preproc__steps': [('encoder',\n",
       "   ColumnTransformer(remainder='passthrough',\n",
       "                     transformers=[('ohe', OneHotEncoder(drop='first'), ['Sex']),\n",
       "                                   ('area', AreaTransformer(),\n",
       "                                    ['Length', 'Diameter'])])),\n",
       "  ('scaler', StandardScaler())],\n",
       " 'preproc__verbose': False,\n",
       " 'preproc__encoder': ColumnTransformer(remainder='passthrough',\n",
       "                   transformers=[('ohe', OneHotEncoder(drop='first'), ['Sex']),\n",
       "                                 ('area', AreaTransformer(),\n",
       "                                  ['Length', 'Diameter'])]),\n",
       " 'preproc__scaler': StandardScaler(),\n",
       " 'preproc__encoder__n_jobs': None,\n",
       " 'preproc__encoder__remainder': 'passthrough',\n",
       " 'preproc__encoder__sparse_threshold': 0.3,\n",
       " 'preproc__encoder__transformer_weights': None,\n",
       " 'preproc__encoder__transformers': [('ohe',\n",
       "   OneHotEncoder(drop='first'),\n",
       "   ['Sex']),\n",
       "  ('area', AreaTransformer(), ['Length', 'Diameter'])],\n",
       " 'preproc__encoder__verbose': False,\n",
       " 'preproc__encoder__ohe': OneHotEncoder(drop='first'),\n",
       " 'preproc__encoder__area': AreaTransformer(),\n",
       " 'preproc__encoder__ohe__categories': 'auto',\n",
       " 'preproc__encoder__ohe__drop': 'first',\n",
       " 'preproc__encoder__ohe__dtype': numpy.float64,\n",
       " 'preproc__encoder__ohe__handle_unknown': 'error',\n",
       " 'preproc__encoder__ohe__sparse': True,\n",
       " 'preproc__scaler__copy': True,\n",
       " 'preproc__scaler__with_mean': True,\n",
       " 'preproc__scaler__with_std': True,\n",
       " 'gbr__C': 1.0,\n",
       " 'gbr__cache_size': 200,\n",
       " 'gbr__coef0': 0.0,\n",
       " 'gbr__degree': 3,\n",
       " 'gbr__epsilon': 0.2,\n",
       " 'gbr__gamma': 'scale',\n",
       " 'gbr__kernel': 'rbf',\n",
       " 'gbr__max_iter': -1,\n",
       " 'gbr__shrinking': True,\n",
       " 'gbr__tol': 0.001,\n",
       " 'gbr__verbose': False}"
      ]
     },
     "execution_count": 338,
     "metadata": {},
     "output_type": "execute_result"
    }
   ],
   "source": [
    "svr.get_params()"
   ]
  },
  {
   "cell_type": "code",
   "execution_count": 397,
   "id": "3b8bc6c8",
   "metadata": {},
   "outputs": [],
   "source": [
    "params = {'knn__n_neighbors': [60, 61, 62, 63, 64, 65, 66, 67, 68, 69, 70, 71, 72, 73, 74, 75 ,76, 77, 78, 79, 80]}"
   ]
  },
  {
   "cell_type": "code",
   "execution_count": 387,
   "id": "59ddfea9",
   "metadata": {},
   "outputs": [],
   "source": [
    "params = {'rf__max_depth': [6, 7, 8, 9, 10],\n",
    "         'rf__n_estimators': [200, 400, 600, 800]}"
   ]
  },
  {
   "cell_type": "code",
   "execution_count": 404,
   "id": "5d89ef4d",
   "metadata": {},
   "outputs": [],
   "source": [
    "params= {'gbr__C': [3, 4, 5, 6, 7, 8, 9, 10],\n",
    "         'gbr__epsilon': [ 1, 1.2, 1.3, 1.4, 1.5, 1.6, 1.7, 2, 2.5, 3],\n",
    "         'gbr__kernel': ['rbf','linear']}"
   ]
  },
  {
   "cell_type": "code",
   "execution_count": 405,
   "id": "3c027393",
   "metadata": {},
   "outputs": [],
   "source": [
    "grid = GridSearchCV(best_svr, params, verbose = 3, cv = 3)"
   ]
  },
  {
   "cell_type": "code",
   "execution_count": 406,
   "id": "c69e4103",
   "metadata": {},
   "outputs": [
    {
     "name": "stdout",
     "output_type": "stream",
     "text": [
      "Fitting 3 folds for each of 160 candidates, totalling 480 fits\n",
      "[CV 1/3] END gbr__C=3, gbr__epsilon=1, gbr__kernel=rbf;, score=0.422 total time=   0.2s\n",
      "[CV 2/3] END gbr__C=3, gbr__epsilon=1, gbr__kernel=rbf;, score=0.394 total time=   0.2s\n",
      "[CV 3/3] END gbr__C=3, gbr__epsilon=1, gbr__kernel=rbf;, score=0.352 total time=   0.2s\n",
      "[CV 1/3] END gbr__C=3, gbr__epsilon=1, gbr__kernel=linear;, score=0.361 total time=   0.1s\n",
      "[CV 2/3] END gbr__C=3, gbr__epsilon=1, gbr__kernel=linear;, score=0.156 total time=   0.1s\n",
      "[CV 3/3] END gbr__C=3, gbr__epsilon=1, gbr__kernel=linear;, score=0.322 total time=   0.1s\n",
      "[CV 1/3] END gbr__C=3, gbr__epsilon=1.2, gbr__kernel=rbf;, score=0.422 total time=   0.2s\n",
      "[CV 2/3] END gbr__C=3, gbr__epsilon=1.2, gbr__kernel=rbf;, score=0.398 total time=   0.2s\n",
      "[CV 3/3] END gbr__C=3, gbr__epsilon=1.2, gbr__kernel=rbf;, score=0.356 total time=   0.2s\n",
      "[CV 1/3] END gbr__C=3, gbr__epsilon=1.2, gbr__kernel=linear;, score=0.367 total time=   0.1s\n",
      "[CV 2/3] END gbr__C=3, gbr__epsilon=1.2, gbr__kernel=linear;, score=0.167 total time=   0.1s\n",
      "[CV 3/3] END gbr__C=3, gbr__epsilon=1.2, gbr__kernel=linear;, score=0.335 total time=   0.1s\n",
      "[CV 1/3] END gbr__C=3, gbr__epsilon=1.3, gbr__kernel=rbf;, score=0.422 total time=   0.2s\n",
      "[CV 2/3] END gbr__C=3, gbr__epsilon=1.3, gbr__kernel=rbf;, score=0.400 total time=   0.2s\n",
      "[CV 3/3] END gbr__C=3, gbr__epsilon=1.3, gbr__kernel=rbf;, score=0.358 total time=   0.2s\n",
      "[CV 1/3] END gbr__C=3, gbr__epsilon=1.3, gbr__kernel=linear;, score=0.370 total time=   0.1s\n",
      "[CV 2/3] END gbr__C=3, gbr__epsilon=1.3, gbr__kernel=linear;, score=0.179 total time=   0.1s\n",
      "[CV 3/3] END gbr__C=3, gbr__epsilon=1.3, gbr__kernel=linear;, score=0.339 total time=   0.1s\n",
      "[CV 1/3] END gbr__C=3, gbr__epsilon=1.4, gbr__kernel=rbf;, score=0.423 total time=   0.2s\n",
      "[CV 2/3] END gbr__C=3, gbr__epsilon=1.4, gbr__kernel=rbf;, score=0.401 total time=   0.2s\n",
      "[CV 3/3] END gbr__C=3, gbr__epsilon=1.4, gbr__kernel=rbf;, score=0.361 total time=   0.2s\n",
      "[CV 1/3] END gbr__C=3, gbr__epsilon=1.4, gbr__kernel=linear;, score=0.372 total time=   0.1s\n",
      "[CV 2/3] END gbr__C=3, gbr__epsilon=1.4, gbr__kernel=linear;, score=0.191 total time=   0.1s\n",
      "[CV 3/3] END gbr__C=3, gbr__epsilon=1.4, gbr__kernel=linear;, score=0.344 total time=   0.1s\n",
      "[CV 1/3] END gbr__C=3, gbr__epsilon=1.5, gbr__kernel=rbf;, score=0.426 total time=   0.2s\n",
      "[CV 2/3] END gbr__C=3, gbr__epsilon=1.5, gbr__kernel=rbf;, score=0.403 total time=   0.2s\n",
      "[CV 3/3] END gbr__C=3, gbr__epsilon=1.5, gbr__kernel=rbf;, score=0.363 total time=   0.3s\n",
      "[CV 1/3] END gbr__C=3, gbr__epsilon=1.5, gbr__kernel=linear;, score=0.373 total time=   0.2s\n",
      "[CV 2/3] END gbr__C=3, gbr__epsilon=1.5, gbr__kernel=linear;, score=0.205 total time=   0.1s\n",
      "[CV 3/3] END gbr__C=3, gbr__epsilon=1.5, gbr__kernel=linear;, score=0.347 total time=   0.1s\n",
      "[CV 1/3] END gbr__C=3, gbr__epsilon=1.6, gbr__kernel=rbf;, score=0.425 total time=   0.2s\n",
      "[CV 2/3] END gbr__C=3, gbr__epsilon=1.6, gbr__kernel=rbf;, score=0.404 total time=   0.2s\n",
      "[CV 3/3] END gbr__C=3, gbr__epsilon=1.6, gbr__kernel=rbf;, score=0.365 total time=   0.2s\n",
      "[CV 1/3] END gbr__C=3, gbr__epsilon=1.6, gbr__kernel=linear;, score=0.376 total time=   0.1s\n",
      "[CV 2/3] END gbr__C=3, gbr__epsilon=1.6, gbr__kernel=linear;, score=0.210 total time=   0.1s\n",
      "[CV 3/3] END gbr__C=3, gbr__epsilon=1.6, gbr__kernel=linear;, score=0.353 total time=   0.1s\n",
      "[CV 1/3] END gbr__C=3, gbr__epsilon=1.7, gbr__kernel=rbf;, score=0.425 total time=   0.1s\n",
      "[CV 2/3] END gbr__C=3, gbr__epsilon=1.7, gbr__kernel=rbf;, score=0.405 total time=   0.1s\n",
      "[CV 3/3] END gbr__C=3, gbr__epsilon=1.7, gbr__kernel=rbf;, score=0.368 total time=   0.1s\n",
      "[CV 1/3] END gbr__C=3, gbr__epsilon=1.7, gbr__kernel=linear;, score=0.377 total time=   0.1s\n",
      "[CV 2/3] END gbr__C=3, gbr__epsilon=1.7, gbr__kernel=linear;, score=0.211 total time=   0.1s\n",
      "[CV 3/3] END gbr__C=3, gbr__epsilon=1.7, gbr__kernel=linear;, score=0.355 total time=   0.1s\n",
      "[CV 1/3] END gbr__C=3, gbr__epsilon=2, gbr__kernel=rbf;, score=0.426 total time=   0.2s\n",
      "[CV 2/3] END gbr__C=3, gbr__epsilon=2, gbr__kernel=rbf;, score=0.404 total time=   0.1s\n",
      "[CV 3/3] END gbr__C=3, gbr__epsilon=2, gbr__kernel=rbf;, score=0.375 total time=   0.2s\n",
      "[CV 1/3] END gbr__C=3, gbr__epsilon=2, gbr__kernel=linear;, score=0.377 total time=   0.1s\n",
      "[CV 2/3] END gbr__C=3, gbr__epsilon=2, gbr__kernel=linear;, score=0.224 total time=   0.1s\n",
      "[CV 3/3] END gbr__C=3, gbr__epsilon=2, gbr__kernel=linear;, score=0.355 total time=   0.1s\n",
      "[CV 1/3] END gbr__C=3, gbr__epsilon=2.5, gbr__kernel=rbf;, score=0.410 total time=   0.2s\n",
      "[CV 2/3] END gbr__C=3, gbr__epsilon=2.5, gbr__kernel=rbf;, score=0.386 total time=   0.1s\n",
      "[CV 3/3] END gbr__C=3, gbr__epsilon=2.5, gbr__kernel=rbf;, score=0.375 total time=   0.1s\n",
      "[CV 1/3] END gbr__C=3, gbr__epsilon=2.5, gbr__kernel=linear;, score=0.361 total time=   0.1s\n",
      "[CV 2/3] END gbr__C=3, gbr__epsilon=2.5, gbr__kernel=linear;, score=0.223 total time=   0.1s\n",
      "[CV 3/3] END gbr__C=3, gbr__epsilon=2.5, gbr__kernel=linear;, score=0.352 total time=   0.1s\n",
      "[CV 1/3] END gbr__C=3, gbr__epsilon=3, gbr__kernel=rbf;, score=0.376 total time=   0.1s\n",
      "[CV 2/3] END gbr__C=3, gbr__epsilon=3, gbr__kernel=rbf;, score=0.356 total time=   0.1s\n",
      "[CV 3/3] END gbr__C=3, gbr__epsilon=3, gbr__kernel=rbf;, score=0.359 total time=   0.1s\n",
      "[CV 1/3] END gbr__C=3, gbr__epsilon=3, gbr__kernel=linear;, score=0.324 total time=   0.1s\n",
      "[CV 2/3] END gbr__C=3, gbr__epsilon=3, gbr__kernel=linear;, score=0.209 total time=   0.1s\n",
      "[CV 3/3] END gbr__C=3, gbr__epsilon=3, gbr__kernel=linear;, score=0.327 total time=   0.1s\n",
      "[CV 1/3] END gbr__C=4, gbr__epsilon=1, gbr__kernel=rbf;, score=0.423 total time=   0.2s\n",
      "[CV 2/3] END gbr__C=4, gbr__epsilon=1, gbr__kernel=rbf;, score=0.394 total time=   0.2s\n",
      "[CV 3/3] END gbr__C=4, gbr__epsilon=1, gbr__kernel=rbf;, score=0.353 total time=   0.2s\n",
      "[CV 1/3] END gbr__C=4, gbr__epsilon=1, gbr__kernel=linear;, score=0.361 total time=   0.1s\n",
      "[CV 2/3] END gbr__C=4, gbr__epsilon=1, gbr__kernel=linear;, score=0.156 total time=   0.1s\n",
      "[CV 3/3] END gbr__C=4, gbr__epsilon=1, gbr__kernel=linear;, score=0.322 total time=   0.2s\n",
      "[CV 1/3] END gbr__C=4, gbr__epsilon=1.2, gbr__kernel=rbf;, score=0.423 total time=   0.2s\n",
      "[CV 2/3] END gbr__C=4, gbr__epsilon=1.2, gbr__kernel=rbf;, score=0.399 total time=   0.2s\n",
      "[CV 3/3] END gbr__C=4, gbr__epsilon=1.2, gbr__kernel=rbf;, score=0.357 total time=   0.2s\n",
      "[CV 1/3] END gbr__C=4, gbr__epsilon=1.2, gbr__kernel=linear;, score=0.367 total time=   0.1s\n",
      "[CV 2/3] END gbr__C=4, gbr__epsilon=1.2, gbr__kernel=linear;, score=0.167 total time=   0.1s\n",
      "[CV 3/3] END gbr__C=4, gbr__epsilon=1.2, gbr__kernel=linear;, score=0.335 total time=   0.1s\n",
      "[CV 1/3] END gbr__C=4, gbr__epsilon=1.3, gbr__kernel=rbf;, score=0.423 total time=   0.2s\n",
      "[CV 2/3] END gbr__C=4, gbr__epsilon=1.3, gbr__kernel=rbf;, score=0.400 total time=   0.2s\n",
      "[CV 3/3] END gbr__C=4, gbr__epsilon=1.3, gbr__kernel=rbf;, score=0.360 total time=   0.2s\n",
      "[CV 1/3] END gbr__C=4, gbr__epsilon=1.3, gbr__kernel=linear;, score=0.370 total time=   0.1s\n",
      "[CV 2/3] END gbr__C=4, gbr__epsilon=1.3, gbr__kernel=linear;, score=0.179 total time=   0.1s\n",
      "[CV 3/3] END gbr__C=4, gbr__epsilon=1.3, gbr__kernel=linear;, score=0.339 total time=   0.1s\n",
      "[CV 1/3] END gbr__C=4, gbr__epsilon=1.4, gbr__kernel=rbf;, score=0.424 total time=   0.2s\n",
      "[CV 2/3] END gbr__C=4, gbr__epsilon=1.4, gbr__kernel=rbf;, score=0.402 total time=   0.2s\n",
      "[CV 3/3] END gbr__C=4, gbr__epsilon=1.4, gbr__kernel=rbf;, score=0.361 total time=   0.2s\n",
      "[CV 1/3] END gbr__C=4, gbr__epsilon=1.4, gbr__kernel=linear;, score=0.372 total time=   0.1s\n",
      "[CV 2/3] END gbr__C=4, gbr__epsilon=1.4, gbr__kernel=linear;, score=0.191 total time=   0.1s\n",
      "[CV 3/3] END gbr__C=4, gbr__epsilon=1.4, gbr__kernel=linear;, score=0.344 total time=   0.1s\n",
      "[CV 1/3] END gbr__C=4, gbr__epsilon=1.5, gbr__kernel=rbf;, score=0.426 total time=   0.2s\n",
      "[CV 2/3] END gbr__C=4, gbr__epsilon=1.5, gbr__kernel=rbf;, score=0.404 total time=   0.2s\n",
      "[CV 3/3] END gbr__C=4, gbr__epsilon=1.5, gbr__kernel=rbf;, score=0.364 total time=   0.2s\n",
      "[CV 1/3] END gbr__C=4, gbr__epsilon=1.5, gbr__kernel=linear;, score=0.373 total time=   0.1s\n",
      "[CV 2/3] END gbr__C=4, gbr__epsilon=1.5, gbr__kernel=linear;, score=0.201 total time=   0.1s\n",
      "[CV 3/3] END gbr__C=4, gbr__epsilon=1.5, gbr__kernel=linear;, score=0.347 total time=   0.1s\n"
     ]
    },
    {
     "name": "stdout",
     "output_type": "stream",
     "text": [
      "[CV 1/3] END gbr__C=4, gbr__epsilon=1.6, gbr__kernel=rbf;, score=0.425 total time=   0.2s\n",
      "[CV 2/3] END gbr__C=4, gbr__epsilon=1.6, gbr__kernel=rbf;, score=0.405 total time=   0.2s\n",
      "[CV 3/3] END gbr__C=4, gbr__epsilon=1.6, gbr__kernel=rbf;, score=0.366 total time=   0.2s\n",
      "[CV 1/3] END gbr__C=4, gbr__epsilon=1.6, gbr__kernel=linear;, score=0.376 total time=   0.1s\n",
      "[CV 2/3] END gbr__C=4, gbr__epsilon=1.6, gbr__kernel=linear;, score=0.210 total time=   0.2s\n",
      "[CV 3/3] END gbr__C=4, gbr__epsilon=1.6, gbr__kernel=linear;, score=0.353 total time=   0.1s\n",
      "[CV 1/3] END gbr__C=4, gbr__epsilon=1.7, gbr__kernel=rbf;, score=0.426 total time=   0.1s\n",
      "[CV 2/3] END gbr__C=4, gbr__epsilon=1.7, gbr__kernel=rbf;, score=0.406 total time=   0.2s\n",
      "[CV 3/3] END gbr__C=4, gbr__epsilon=1.7, gbr__kernel=rbf;, score=0.369 total time=   0.2s\n",
      "[CV 1/3] END gbr__C=4, gbr__epsilon=1.7, gbr__kernel=linear;, score=0.377 total time=   0.1s\n",
      "[CV 2/3] END gbr__C=4, gbr__epsilon=1.7, gbr__kernel=linear;, score=0.211 total time=   0.1s\n",
      "[CV 3/3] END gbr__C=4, gbr__epsilon=1.7, gbr__kernel=linear;, score=0.355 total time=   0.1s\n",
      "[CV 1/3] END gbr__C=4, gbr__epsilon=2, gbr__kernel=rbf;, score=0.427 total time=   0.1s\n",
      "[CV 2/3] END gbr__C=4, gbr__epsilon=2, gbr__kernel=rbf;, score=0.404 total time=   0.1s\n",
      "[CV 3/3] END gbr__C=4, gbr__epsilon=2, gbr__kernel=rbf;, score=0.375 total time=   0.1s\n",
      "[CV 1/3] END gbr__C=4, gbr__epsilon=2, gbr__kernel=linear;, score=0.377 total time=   0.1s\n",
      "[CV 2/3] END gbr__C=4, gbr__epsilon=2, gbr__kernel=linear;, score=0.224 total time=   0.1s\n",
      "[CV 3/3] END gbr__C=4, gbr__epsilon=2, gbr__kernel=linear;, score=0.355 total time=   0.1s\n",
      "[CV 1/3] END gbr__C=4, gbr__epsilon=2.5, gbr__kernel=rbf;, score=0.410 total time=   0.1s\n",
      "[CV 2/3] END gbr__C=4, gbr__epsilon=2.5, gbr__kernel=rbf;, score=0.389 total time=   0.1s\n",
      "[CV 3/3] END gbr__C=4, gbr__epsilon=2.5, gbr__kernel=rbf;, score=0.376 total time=   0.1s\n",
      "[CV 1/3] END gbr__C=4, gbr__epsilon=2.5, gbr__kernel=linear;, score=0.361 total time=   0.1s\n",
      "[CV 2/3] END gbr__C=4, gbr__epsilon=2.5, gbr__kernel=linear;, score=0.223 total time=   0.1s\n",
      "[CV 3/3] END gbr__C=4, gbr__epsilon=2.5, gbr__kernel=linear;, score=0.352 total time=   0.1s\n",
      "[CV 1/3] END gbr__C=4, gbr__epsilon=3, gbr__kernel=rbf;, score=0.376 total time=   0.1s\n",
      "[CV 2/3] END gbr__C=4, gbr__epsilon=3, gbr__kernel=rbf;, score=0.357 total time=   0.1s\n",
      "[CV 3/3] END gbr__C=4, gbr__epsilon=3, gbr__kernel=rbf;, score=0.361 total time=   0.1s\n",
      "[CV 1/3] END gbr__C=4, gbr__epsilon=3, gbr__kernel=linear;, score=0.324 total time=   0.1s\n",
      "[CV 2/3] END gbr__C=4, gbr__epsilon=3, gbr__kernel=linear;, score=0.209 total time=   0.1s\n",
      "[CV 3/3] END gbr__C=4, gbr__epsilon=3, gbr__kernel=linear;, score=0.327 total time=   0.1s\n",
      "[CV 1/3] END gbr__C=5, gbr__epsilon=1, gbr__kernel=rbf;, score=0.424 total time=   0.2s\n",
      "[CV 2/3] END gbr__C=5, gbr__epsilon=1, gbr__kernel=rbf;, score=0.396 total time=   0.2s\n",
      "[CV 3/3] END gbr__C=5, gbr__epsilon=1, gbr__kernel=rbf;, score=0.354 total time=   0.2s\n",
      "[CV 1/3] END gbr__C=5, gbr__epsilon=1, gbr__kernel=linear;, score=0.362 total time=   0.2s\n",
      "[CV 2/3] END gbr__C=5, gbr__epsilon=1, gbr__kernel=linear;, score=0.156 total time=   0.2s\n",
      "[CV 3/3] END gbr__C=5, gbr__epsilon=1, gbr__kernel=linear;, score=0.323 total time=   0.1s\n",
      "[CV 1/3] END gbr__C=5, gbr__epsilon=1.2, gbr__kernel=rbf;, score=0.423 total time=   0.2s\n",
      "[CV 2/3] END gbr__C=5, gbr__epsilon=1.2, gbr__kernel=rbf;, score=0.399 total time=   0.2s\n",
      "[CV 3/3] END gbr__C=5, gbr__epsilon=1.2, gbr__kernel=rbf;, score=0.358 total time=   0.2s\n",
      "[CV 1/3] END gbr__C=5, gbr__epsilon=1.2, gbr__kernel=linear;, score=0.367 total time=   0.1s\n",
      "[CV 2/3] END gbr__C=5, gbr__epsilon=1.2, gbr__kernel=linear;, score=0.167 total time=   0.1s\n",
      "[CV 3/3] END gbr__C=5, gbr__epsilon=1.2, gbr__kernel=linear;, score=0.335 total time=   0.1s\n",
      "[CV 1/3] END gbr__C=5, gbr__epsilon=1.3, gbr__kernel=rbf;, score=0.425 total time=   0.2s\n",
      "[CV 2/3] END gbr__C=5, gbr__epsilon=1.3, gbr__kernel=rbf;, score=0.400 total time=   0.2s\n",
      "[CV 3/3] END gbr__C=5, gbr__epsilon=1.3, gbr__kernel=rbf;, score=0.360 total time=   0.2s\n",
      "[CV 1/3] END gbr__C=5, gbr__epsilon=1.3, gbr__kernel=linear;, score=0.370 total time=   0.1s\n",
      "[CV 2/3] END gbr__C=5, gbr__epsilon=1.3, gbr__kernel=linear;, score=0.179 total time=   0.1s\n",
      "[CV 3/3] END gbr__C=5, gbr__epsilon=1.3, gbr__kernel=linear;, score=0.339 total time=   0.2s\n",
      "[CV 1/3] END gbr__C=5, gbr__epsilon=1.4, gbr__kernel=rbf;, score=0.425 total time=   0.2s\n",
      "[CV 2/3] END gbr__C=5, gbr__epsilon=1.4, gbr__kernel=rbf;, score=0.403 total time=   0.2s\n",
      "[CV 3/3] END gbr__C=5, gbr__epsilon=1.4, gbr__kernel=rbf;, score=0.362 total time=   0.2s\n",
      "[CV 1/3] END gbr__C=5, gbr__epsilon=1.4, gbr__kernel=linear;, score=0.372 total time=   0.1s\n",
      "[CV 2/3] END gbr__C=5, gbr__epsilon=1.4, gbr__kernel=linear;, score=0.191 total time=   0.1s\n",
      "[CV 3/3] END gbr__C=5, gbr__epsilon=1.4, gbr__kernel=linear;, score=0.344 total time=   0.1s\n",
      "[CV 1/3] END gbr__C=5, gbr__epsilon=1.5, gbr__kernel=rbf;, score=0.426 total time=   0.2s\n",
      "[CV 2/3] END gbr__C=5, gbr__epsilon=1.5, gbr__kernel=rbf;, score=0.405 total time=   0.2s\n",
      "[CV 3/3] END gbr__C=5, gbr__epsilon=1.5, gbr__kernel=rbf;, score=0.364 total time=   0.2s\n",
      "[CV 1/3] END gbr__C=5, gbr__epsilon=1.5, gbr__kernel=linear;, score=0.373 total time=   0.1s\n",
      "[CV 2/3] END gbr__C=5, gbr__epsilon=1.5, gbr__kernel=linear;, score=0.201 total time=   0.1s\n",
      "[CV 3/3] END gbr__C=5, gbr__epsilon=1.5, gbr__kernel=linear;, score=0.347 total time=   0.1s\n",
      "[CV 1/3] END gbr__C=5, gbr__epsilon=1.6, gbr__kernel=rbf;, score=0.426 total time=   0.2s\n",
      "[CV 2/3] END gbr__C=5, gbr__epsilon=1.6, gbr__kernel=rbf;, score=0.405 total time=   0.2s\n",
      "[CV 3/3] END gbr__C=5, gbr__epsilon=1.6, gbr__kernel=rbf;, score=0.366 total time=   0.2s\n",
      "[CV 1/3] END gbr__C=5, gbr__epsilon=1.6, gbr__kernel=linear;, score=0.376 total time=   0.1s\n",
      "[CV 2/3] END gbr__C=5, gbr__epsilon=1.6, gbr__kernel=linear;, score=0.210 total time=   0.1s\n",
      "[CV 3/3] END gbr__C=5, gbr__epsilon=1.6, gbr__kernel=linear;, score=0.353 total time=   0.1s\n",
      "[CV 1/3] END gbr__C=5, gbr__epsilon=1.7, gbr__kernel=rbf;, score=0.427 total time=   0.2s\n",
      "[CV 2/3] END gbr__C=5, gbr__epsilon=1.7, gbr__kernel=rbf;, score=0.405 total time=   0.1s\n",
      "[CV 3/3] END gbr__C=5, gbr__epsilon=1.7, gbr__kernel=rbf;, score=0.369 total time=   0.2s\n",
      "[CV 1/3] END gbr__C=5, gbr__epsilon=1.7, gbr__kernel=linear;, score=0.377 total time=   0.1s\n",
      "[CV 2/3] END gbr__C=5, gbr__epsilon=1.7, gbr__kernel=linear;, score=0.211 total time=   0.1s\n",
      "[CV 3/3] END gbr__C=5, gbr__epsilon=1.7, gbr__kernel=linear;, score=0.355 total time=   0.1s\n",
      "[CV 1/3] END gbr__C=5, gbr__epsilon=2, gbr__kernel=rbf;, score=0.427 total time=   0.2s\n",
      "[CV 2/3] END gbr__C=5, gbr__epsilon=2, gbr__kernel=rbf;, score=0.405 total time=   0.2s\n",
      "[CV 3/3] END gbr__C=5, gbr__epsilon=2, gbr__kernel=rbf;, score=0.375 total time=   0.2s\n",
      "[CV 1/3] END gbr__C=5, gbr__epsilon=2, gbr__kernel=linear;, score=0.377 total time=   0.1s\n",
      "[CV 2/3] END gbr__C=5, gbr__epsilon=2, gbr__kernel=linear;, score=0.224 total time=   0.1s\n",
      "[CV 3/3] END gbr__C=5, gbr__epsilon=2, gbr__kernel=linear;, score=0.355 total time=   0.1s\n",
      "[CV 1/3] END gbr__C=5, gbr__epsilon=2.5, gbr__kernel=rbf;, score=0.410 total time=   0.1s\n",
      "[CV 2/3] END gbr__C=5, gbr__epsilon=2.5, gbr__kernel=rbf;, score=0.390 total time=   0.1s\n",
      "[CV 3/3] END gbr__C=5, gbr__epsilon=2.5, gbr__kernel=rbf;, score=0.377 total time=   0.1s\n",
      "[CV 1/3] END gbr__C=5, gbr__epsilon=2.5, gbr__kernel=linear;, score=0.361 total time=   0.1s\n",
      "[CV 2/3] END gbr__C=5, gbr__epsilon=2.5, gbr__kernel=linear;, score=0.223 total time=   0.1s\n",
      "[CV 3/3] END gbr__C=5, gbr__epsilon=2.5, gbr__kernel=linear;, score=0.352 total time=   0.1s\n",
      "[CV 1/3] END gbr__C=5, gbr__epsilon=3, gbr__kernel=rbf;, score=0.375 total time=   0.1s\n",
      "[CV 2/3] END gbr__C=5, gbr__epsilon=3, gbr__kernel=rbf;, score=0.358 total time=   0.1s\n",
      "[CV 3/3] END gbr__C=5, gbr__epsilon=3, gbr__kernel=rbf;, score=0.361 total time=   0.1s\n",
      "[CV 1/3] END gbr__C=5, gbr__epsilon=3, gbr__kernel=linear;, score=0.324 total time=   0.1s\n",
      "[CV 2/3] END gbr__C=5, gbr__epsilon=3, gbr__kernel=linear;, score=0.209 total time=   0.1s\n",
      "[CV 3/3] END gbr__C=5, gbr__epsilon=3, gbr__kernel=linear;, score=0.327 total time=   0.1s\n",
      "[CV 1/3] END gbr__C=6, gbr__epsilon=1, gbr__kernel=rbf;, score=0.425 total time=   0.2s\n"
     ]
    },
    {
     "name": "stdout",
     "output_type": "stream",
     "text": [
      "[CV 2/3] END gbr__C=6, gbr__epsilon=1, gbr__kernel=rbf;, score=0.396 total time=   0.2s\n",
      "[CV 3/3] END gbr__C=6, gbr__epsilon=1, gbr__kernel=rbf;, score=0.354 total time=   0.2s\n",
      "[CV 1/3] END gbr__C=6, gbr__epsilon=1, gbr__kernel=linear;, score=0.362 total time=   0.2s\n",
      "[CV 2/3] END gbr__C=6, gbr__epsilon=1, gbr__kernel=linear;, score=0.156 total time=   0.2s\n",
      "[CV 3/3] END gbr__C=6, gbr__epsilon=1, gbr__kernel=linear;, score=0.323 total time=   0.2s\n",
      "[CV 1/3] END gbr__C=6, gbr__epsilon=1.2, gbr__kernel=rbf;, score=0.423 total time=   0.2s\n",
      "[CV 2/3] END gbr__C=6, gbr__epsilon=1.2, gbr__kernel=rbf;, score=0.400 total time=   0.2s\n",
      "[CV 3/3] END gbr__C=6, gbr__epsilon=1.2, gbr__kernel=rbf;, score=0.358 total time=   0.3s\n",
      "[CV 1/3] END gbr__C=6, gbr__epsilon=1.2, gbr__kernel=linear;, score=0.367 total time=   0.1s\n",
      "[CV 2/3] END gbr__C=6, gbr__epsilon=1.2, gbr__kernel=linear;, score=0.167 total time=   0.1s\n",
      "[CV 3/3] END gbr__C=6, gbr__epsilon=1.2, gbr__kernel=linear;, score=0.335 total time=   0.2s\n",
      "[CV 1/3] END gbr__C=6, gbr__epsilon=1.3, gbr__kernel=rbf;, score=0.425 total time=   0.2s\n",
      "[CV 2/3] END gbr__C=6, gbr__epsilon=1.3, gbr__kernel=rbf;, score=0.401 total time=   0.2s\n",
      "[CV 3/3] END gbr__C=6, gbr__epsilon=1.3, gbr__kernel=rbf;, score=0.361 total time=   0.2s\n",
      "[CV 1/3] END gbr__C=6, gbr__epsilon=1.3, gbr__kernel=linear;, score=0.370 total time=   0.2s\n",
      "[CV 2/3] END gbr__C=6, gbr__epsilon=1.3, gbr__kernel=linear;, score=0.178 total time=   0.1s\n",
      "[CV 3/3] END gbr__C=6, gbr__epsilon=1.3, gbr__kernel=linear;, score=0.339 total time=   0.2s\n",
      "[CV 1/3] END gbr__C=6, gbr__epsilon=1.4, gbr__kernel=rbf;, score=0.426 total time=   0.4s\n",
      "[CV 2/3] END gbr__C=6, gbr__epsilon=1.4, gbr__kernel=rbf;, score=0.403 total time=   0.6s\n",
      "[CV 3/3] END gbr__C=6, gbr__epsilon=1.4, gbr__kernel=rbf;, score=0.362 total time=   0.4s\n",
      "[CV 1/3] END gbr__C=6, gbr__epsilon=1.4, gbr__kernel=linear;, score=0.372 total time=   0.2s\n",
      "[CV 2/3] END gbr__C=6, gbr__epsilon=1.4, gbr__kernel=linear;, score=0.191 total time=   0.2s\n",
      "[CV 3/3] END gbr__C=6, gbr__epsilon=1.4, gbr__kernel=linear;, score=0.344 total time=   0.2s\n",
      "[CV 1/3] END gbr__C=6, gbr__epsilon=1.5, gbr__kernel=rbf;, score=0.426 total time=   0.2s\n",
      "[CV 2/3] END gbr__C=6, gbr__epsilon=1.5, gbr__kernel=rbf;, score=0.405 total time=   0.2s\n",
      "[CV 3/3] END gbr__C=6, gbr__epsilon=1.5, gbr__kernel=rbf;, score=0.364 total time=   0.2s\n",
      "[CV 1/3] END gbr__C=6, gbr__epsilon=1.5, gbr__kernel=linear;, score=0.373 total time=   0.2s\n",
      "[CV 2/3] END gbr__C=6, gbr__epsilon=1.5, gbr__kernel=linear;, score=0.201 total time=   0.1s\n",
      "[CV 3/3] END gbr__C=6, gbr__epsilon=1.5, gbr__kernel=linear;, score=0.347 total time=   0.1s\n",
      "[CV 1/3] END gbr__C=6, gbr__epsilon=1.6, gbr__kernel=rbf;, score=0.426 total time=   0.2s\n",
      "[CV 2/3] END gbr__C=6, gbr__epsilon=1.6, gbr__kernel=rbf;, score=0.405 total time=   0.2s\n",
      "[CV 3/3] END gbr__C=6, gbr__epsilon=1.6, gbr__kernel=rbf;, score=0.365 total time=   0.3s\n",
      "[CV 1/3] END gbr__C=6, gbr__epsilon=1.6, gbr__kernel=linear;, score=0.376 total time=   0.1s\n",
      "[CV 2/3] END gbr__C=6, gbr__epsilon=1.6, gbr__kernel=linear;, score=0.210 total time=   0.1s\n",
      "[CV 3/3] END gbr__C=6, gbr__epsilon=1.6, gbr__kernel=linear;, score=0.353 total time=   0.1s\n",
      "[CV 1/3] END gbr__C=6, gbr__epsilon=1.7, gbr__kernel=rbf;, score=0.427 total time=   0.2s\n",
      "[CV 2/3] END gbr__C=6, gbr__epsilon=1.7, gbr__kernel=rbf;, score=0.406 total time=   0.2s\n",
      "[CV 3/3] END gbr__C=6, gbr__epsilon=1.7, gbr__kernel=rbf;, score=0.369 total time=   0.2s\n",
      "[CV 1/3] END gbr__C=6, gbr__epsilon=1.7, gbr__kernel=linear;, score=0.377 total time=   0.1s\n",
      "[CV 2/3] END gbr__C=6, gbr__epsilon=1.7, gbr__kernel=linear;, score=0.211 total time=   0.1s\n",
      "[CV 3/3] END gbr__C=6, gbr__epsilon=1.7, gbr__kernel=linear;, score=0.355 total time=   0.1s\n",
      "[CV 1/3] END gbr__C=6, gbr__epsilon=2, gbr__kernel=rbf;, score=0.427 total time=   0.1s\n",
      "[CV 2/3] END gbr__C=6, gbr__epsilon=2, gbr__kernel=rbf;, score=0.405 total time=   0.1s\n",
      "[CV 3/3] END gbr__C=6, gbr__epsilon=2, gbr__kernel=rbf;, score=0.375 total time=   0.1s\n",
      "[CV 1/3] END gbr__C=6, gbr__epsilon=2, gbr__kernel=linear;, score=0.377 total time=   0.1s\n",
      "[CV 2/3] END gbr__C=6, gbr__epsilon=2, gbr__kernel=linear;, score=0.224 total time=   0.1s\n",
      "[CV 3/3] END gbr__C=6, gbr__epsilon=2, gbr__kernel=linear;, score=0.355 total time=   0.1s\n",
      "[CV 1/3] END gbr__C=6, gbr__epsilon=2.5, gbr__kernel=rbf;, score=0.410 total time=   0.1s\n",
      "[CV 2/3] END gbr__C=6, gbr__epsilon=2.5, gbr__kernel=rbf;, score=0.391 total time=   0.1s\n",
      "[CV 3/3] END gbr__C=6, gbr__epsilon=2.5, gbr__kernel=rbf;, score=0.377 total time=   0.1s\n",
      "[CV 1/3] END gbr__C=6, gbr__epsilon=2.5, gbr__kernel=linear;, score=0.361 total time=   0.1s\n",
      "[CV 2/3] END gbr__C=6, gbr__epsilon=2.5, gbr__kernel=linear;, score=0.223 total time=   0.1s\n",
      "[CV 3/3] END gbr__C=6, gbr__epsilon=2.5, gbr__kernel=linear;, score=0.352 total time=   0.1s\n",
      "[CV 1/3] END gbr__C=6, gbr__epsilon=3, gbr__kernel=rbf;, score=0.374 total time=   0.1s\n",
      "[CV 2/3] END gbr__C=6, gbr__epsilon=3, gbr__kernel=rbf;, score=0.359 total time=   0.1s\n",
      "[CV 3/3] END gbr__C=6, gbr__epsilon=3, gbr__kernel=rbf;, score=0.364 total time=   0.1s\n",
      "[CV 1/3] END gbr__C=6, gbr__epsilon=3, gbr__kernel=linear;, score=0.324 total time=   0.1s\n",
      "[CV 2/3] END gbr__C=6, gbr__epsilon=3, gbr__kernel=linear;, score=0.209 total time=   0.1s\n",
      "[CV 3/3] END gbr__C=6, gbr__epsilon=3, gbr__kernel=linear;, score=0.327 total time=   0.1s\n",
      "[CV 1/3] END gbr__C=7, gbr__epsilon=1, gbr__kernel=rbf;, score=0.425 total time=   0.2s\n",
      "[CV 2/3] END gbr__C=7, gbr__epsilon=1, gbr__kernel=rbf;, score=0.397 total time=   0.4s\n",
      "[CV 3/3] END gbr__C=7, gbr__epsilon=1, gbr__kernel=rbf;, score=0.354 total time=   0.4s\n",
      "[CV 1/3] END gbr__C=7, gbr__epsilon=1, gbr__kernel=linear;, score=0.362 total time=   0.2s\n",
      "[CV 2/3] END gbr__C=7, gbr__epsilon=1, gbr__kernel=linear;, score=0.156 total time=   0.2s\n",
      "[CV 3/3] END gbr__C=7, gbr__epsilon=1, gbr__kernel=linear;, score=0.323 total time=   0.2s\n",
      "[CV 1/3] END gbr__C=7, gbr__epsilon=1.2, gbr__kernel=rbf;, score=0.424 total time=   0.2s\n",
      "[CV 2/3] END gbr__C=7, gbr__epsilon=1.2, gbr__kernel=rbf;, score=0.401 total time=   0.3s\n",
      "[CV 3/3] END gbr__C=7, gbr__epsilon=1.2, gbr__kernel=rbf;, score=0.359 total time=   0.5s\n",
      "[CV 1/3] END gbr__C=7, gbr__epsilon=1.2, gbr__kernel=linear;, score=0.367 total time=   0.3s\n",
      "[CV 2/3] END gbr__C=7, gbr__epsilon=1.2, gbr__kernel=linear;, score=0.167 total time=   0.3s\n",
      "[CV 3/3] END gbr__C=7, gbr__epsilon=1.2, gbr__kernel=linear;, score=0.335 total time=   0.2s\n",
      "[CV 1/3] END gbr__C=7, gbr__epsilon=1.3, gbr__kernel=rbf;, score=0.425 total time=   0.2s\n",
      "[CV 2/3] END gbr__C=7, gbr__epsilon=1.3, gbr__kernel=rbf;, score=0.402 total time=   0.2s\n",
      "[CV 3/3] END gbr__C=7, gbr__epsilon=1.3, gbr__kernel=rbf;, score=0.361 total time=   0.4s\n",
      "[CV 1/3] END gbr__C=7, gbr__epsilon=1.3, gbr__kernel=linear;, score=0.370 total time=   0.3s\n",
      "[CV 2/3] END gbr__C=7, gbr__epsilon=1.3, gbr__kernel=linear;, score=0.178 total time=   0.4s\n",
      "[CV 3/3] END gbr__C=7, gbr__epsilon=1.3, gbr__kernel=linear;, score=0.339 total time=   0.3s\n",
      "[CV 1/3] END gbr__C=7, gbr__epsilon=1.4, gbr__kernel=rbf;, score=0.425 total time=   0.5s\n",
      "[CV 2/3] END gbr__C=7, gbr__epsilon=1.4, gbr__kernel=rbf;, score=0.404 total time=   0.4s\n",
      "[CV 3/3] END gbr__C=7, gbr__epsilon=1.4, gbr__kernel=rbf;, score=0.363 total time=   0.5s\n",
      "[CV 1/3] END gbr__C=7, gbr__epsilon=1.4, gbr__kernel=linear;, score=0.372 total time=   0.3s\n",
      "[CV 2/3] END gbr__C=7, gbr__epsilon=1.4, gbr__kernel=linear;, score=0.191 total time=   0.2s\n",
      "[CV 3/3] END gbr__C=7, gbr__epsilon=1.4, gbr__kernel=linear;, score=0.344 total time=   0.2s\n",
      "[CV 1/3] END gbr__C=7, gbr__epsilon=1.5, gbr__kernel=rbf;, score=0.426 total time=   0.3s\n",
      "[CV 2/3] END gbr__C=7, gbr__epsilon=1.5, gbr__kernel=rbf;, score=0.406 total time=   0.3s\n",
      "[CV 3/3] END gbr__C=7, gbr__epsilon=1.5, gbr__kernel=rbf;, score=0.364 total time=   0.3s\n",
      "[CV 1/3] END gbr__C=7, gbr__epsilon=1.5, gbr__kernel=linear;, score=0.373 total time=   0.2s\n",
      "[CV 2/3] END gbr__C=7, gbr__epsilon=1.5, gbr__kernel=linear;, score=0.201 total time=   0.2s\n",
      "[CV 3/3] END gbr__C=7, gbr__epsilon=1.5, gbr__kernel=linear;, score=0.347 total time=   0.1s\n",
      "[CV 1/3] END gbr__C=7, gbr__epsilon=1.6, gbr__kernel=rbf;, score=0.426 total time=   0.2s\n",
      "[CV 2/3] END gbr__C=7, gbr__epsilon=1.6, gbr__kernel=rbf;, score=0.406 total time=   0.2s\n"
     ]
    },
    {
     "name": "stdout",
     "output_type": "stream",
     "text": [
      "[CV 3/3] END gbr__C=7, gbr__epsilon=1.6, gbr__kernel=rbf;, score=0.366 total time=   0.2s\n",
      "[CV 1/3] END gbr__C=7, gbr__epsilon=1.6, gbr__kernel=linear;, score=0.376 total time=   0.1s\n",
      "[CV 2/3] END gbr__C=7, gbr__epsilon=1.6, gbr__kernel=linear;, score=0.210 total time=   0.1s\n",
      "[CV 3/3] END gbr__C=7, gbr__epsilon=1.6, gbr__kernel=linear;, score=0.353 total time=   0.1s\n",
      "[CV 1/3] END gbr__C=7, gbr__epsilon=1.7, gbr__kernel=rbf;, score=0.427 total time=   0.2s\n",
      "[CV 2/3] END gbr__C=7, gbr__epsilon=1.7, gbr__kernel=rbf;, score=0.406 total time=   0.2s\n",
      "[CV 3/3] END gbr__C=7, gbr__epsilon=1.7, gbr__kernel=rbf;, score=0.368 total time=   0.2s\n",
      "[CV 1/3] END gbr__C=7, gbr__epsilon=1.7, gbr__kernel=linear;, score=0.377 total time=   0.1s\n",
      "[CV 2/3] END gbr__C=7, gbr__epsilon=1.7, gbr__kernel=linear;, score=0.211 total time=   0.2s\n",
      "[CV 3/3] END gbr__C=7, gbr__epsilon=1.7, gbr__kernel=linear;, score=0.355 total time=   0.1s\n",
      "[CV 1/3] END gbr__C=7, gbr__epsilon=2, gbr__kernel=rbf;, score=0.427 total time=   0.2s\n",
      "[CV 2/3] END gbr__C=7, gbr__epsilon=2, gbr__kernel=rbf;, score=0.406 total time=   0.2s\n",
      "[CV 3/3] END gbr__C=7, gbr__epsilon=2, gbr__kernel=rbf;, score=0.375 total time=   0.2s\n",
      "[CV 1/3] END gbr__C=7, gbr__epsilon=2, gbr__kernel=linear;, score=0.377 total time=   0.1s\n",
      "[CV 2/3] END gbr__C=7, gbr__epsilon=2, gbr__kernel=linear;, score=0.224 total time=   0.1s\n",
      "[CV 3/3] END gbr__C=7, gbr__epsilon=2, gbr__kernel=linear;, score=0.355 total time=   0.1s\n",
      "[CV 1/3] END gbr__C=7, gbr__epsilon=2.5, gbr__kernel=rbf;, score=0.410 total time=   0.2s\n",
      "[CV 2/3] END gbr__C=7, gbr__epsilon=2.5, gbr__kernel=rbf;, score=0.391 total time=   0.1s\n",
      "[CV 3/3] END gbr__C=7, gbr__epsilon=2.5, gbr__kernel=rbf;, score=0.378 total time=   0.1s\n",
      "[CV 1/3] END gbr__C=7, gbr__epsilon=2.5, gbr__kernel=linear;, score=0.361 total time=   0.1s\n",
      "[CV 2/3] END gbr__C=7, gbr__epsilon=2.5, gbr__kernel=linear;, score=0.223 total time=   0.1s\n",
      "[CV 3/3] END gbr__C=7, gbr__epsilon=2.5, gbr__kernel=linear;, score=0.352 total time=   0.1s\n",
      "[CV 1/3] END gbr__C=7, gbr__epsilon=3, gbr__kernel=rbf;, score=0.374 total time=   0.1s\n",
      "[CV 2/3] END gbr__C=7, gbr__epsilon=3, gbr__kernel=rbf;, score=0.360 total time=   0.1s\n",
      "[CV 3/3] END gbr__C=7, gbr__epsilon=3, gbr__kernel=rbf;, score=0.365 total time=   0.1s\n",
      "[CV 1/3] END gbr__C=7, gbr__epsilon=3, gbr__kernel=linear;, score=0.324 total time=   0.1s\n",
      "[CV 2/3] END gbr__C=7, gbr__epsilon=3, gbr__kernel=linear;, score=0.209 total time=   0.1s\n",
      "[CV 3/3] END gbr__C=7, gbr__epsilon=3, gbr__kernel=linear;, score=0.327 total time=   0.1s\n",
      "[CV 1/3] END gbr__C=8, gbr__epsilon=1, gbr__kernel=rbf;, score=0.426 total time=   0.3s\n",
      "[CV 2/3] END gbr__C=8, gbr__epsilon=1, gbr__kernel=rbf;, score=0.397 total time=   0.3s\n",
      "[CV 3/3] END gbr__C=8, gbr__epsilon=1, gbr__kernel=rbf;, score=0.354 total time=   0.2s\n",
      "[CV 1/3] END gbr__C=8, gbr__epsilon=1, gbr__kernel=linear;, score=0.362 total time=   0.2s\n",
      "[CV 2/3] END gbr__C=8, gbr__epsilon=1, gbr__kernel=linear;, score=0.156 total time=   0.2s\n",
      "[CV 3/3] END gbr__C=8, gbr__epsilon=1, gbr__kernel=linear;, score=0.323 total time=   0.2s\n",
      "[CV 1/3] END gbr__C=8, gbr__epsilon=1.2, gbr__kernel=rbf;, score=0.425 total time=   0.2s\n",
      "[CV 2/3] END gbr__C=8, gbr__epsilon=1.2, gbr__kernel=rbf;, score=0.402 total time=   0.2s\n",
      "[CV 3/3] END gbr__C=8, gbr__epsilon=1.2, gbr__kernel=rbf;, score=0.359 total time=   0.2s\n",
      "[CV 1/3] END gbr__C=8, gbr__epsilon=1.2, gbr__kernel=linear;, score=0.367 total time=   0.2s\n",
      "[CV 2/3] END gbr__C=8, gbr__epsilon=1.2, gbr__kernel=linear;, score=0.166 total time=   0.2s\n",
      "[CV 3/3] END gbr__C=8, gbr__epsilon=1.2, gbr__kernel=linear;, score=0.335 total time=   0.2s\n",
      "[CV 1/3] END gbr__C=8, gbr__epsilon=1.3, gbr__kernel=rbf;, score=0.425 total time=   0.2s\n",
      "[CV 2/3] END gbr__C=8, gbr__epsilon=1.3, gbr__kernel=rbf;, score=0.402 total time=   0.2s\n",
      "[CV 3/3] END gbr__C=8, gbr__epsilon=1.3, gbr__kernel=rbf;, score=0.361 total time=   0.2s\n",
      "[CV 1/3] END gbr__C=8, gbr__epsilon=1.3, gbr__kernel=linear;, score=0.370 total time=   0.1s\n",
      "[CV 2/3] END gbr__C=8, gbr__epsilon=1.3, gbr__kernel=linear;, score=0.178 total time=   0.2s\n",
      "[CV 3/3] END gbr__C=8, gbr__epsilon=1.3, gbr__kernel=linear;, score=0.339 total time=   0.3s\n",
      "[CV 1/3] END gbr__C=8, gbr__epsilon=1.4, gbr__kernel=rbf;, score=0.425 total time=   0.3s\n",
      "[CV 2/3] END gbr__C=8, gbr__epsilon=1.4, gbr__kernel=rbf;, score=0.404 total time=   0.2s\n",
      "[CV 3/3] END gbr__C=8, gbr__epsilon=1.4, gbr__kernel=rbf;, score=0.362 total time=   0.2s\n",
      "[CV 1/3] END gbr__C=8, gbr__epsilon=1.4, gbr__kernel=linear;, score=0.372 total time=   0.2s\n",
      "[CV 2/3] END gbr__C=8, gbr__epsilon=1.4, gbr__kernel=linear;, score=0.191 total time=   0.2s\n",
      "[CV 3/3] END gbr__C=8, gbr__epsilon=1.4, gbr__kernel=linear;, score=0.344 total time=   0.2s\n",
      "[CV 1/3] END gbr__C=8, gbr__epsilon=1.5, gbr__kernel=rbf;, score=0.426 total time=   0.2s\n",
      "[CV 2/3] END gbr__C=8, gbr__epsilon=1.5, gbr__kernel=rbf;, score=0.406 total time=   0.2s\n",
      "[CV 3/3] END gbr__C=8, gbr__epsilon=1.5, gbr__kernel=rbf;, score=0.364 total time=   0.2s\n",
      "[CV 1/3] END gbr__C=8, gbr__epsilon=1.5, gbr__kernel=linear;, score=0.373 total time=   0.2s\n",
      "[CV 2/3] END gbr__C=8, gbr__epsilon=1.5, gbr__kernel=linear;, score=0.201 total time=   0.2s\n",
      "[CV 3/3] END gbr__C=8, gbr__epsilon=1.5, gbr__kernel=linear;, score=0.347 total time=   0.2s\n",
      "[CV 1/3] END gbr__C=8, gbr__epsilon=1.6, gbr__kernel=rbf;, score=0.427 total time=   0.2s\n",
      "[CV 2/3] END gbr__C=8, gbr__epsilon=1.6, gbr__kernel=rbf;, score=0.407 total time=   0.2s\n",
      "[CV 3/3] END gbr__C=8, gbr__epsilon=1.6, gbr__kernel=rbf;, score=0.366 total time=   0.2s\n",
      "[CV 1/3] END gbr__C=8, gbr__epsilon=1.6, gbr__kernel=linear;, score=0.376 total time=   0.1s\n",
      "[CV 2/3] END gbr__C=8, gbr__epsilon=1.6, gbr__kernel=linear;, score=0.210 total time=   0.1s\n",
      "[CV 3/3] END gbr__C=8, gbr__epsilon=1.6, gbr__kernel=linear;, score=0.353 total time=   0.2s\n",
      "[CV 1/3] END gbr__C=8, gbr__epsilon=1.7, gbr__kernel=rbf;, score=0.427 total time=   0.2s\n",
      "[CV 2/3] END gbr__C=8, gbr__epsilon=1.7, gbr__kernel=rbf;, score=0.406 total time=   0.2s\n",
      "[CV 3/3] END gbr__C=8, gbr__epsilon=1.7, gbr__kernel=rbf;, score=0.368 total time=   0.2s\n",
      "[CV 1/3] END gbr__C=8, gbr__epsilon=1.7, gbr__kernel=linear;, score=0.377 total time=   0.2s\n",
      "[CV 2/3] END gbr__C=8, gbr__epsilon=1.7, gbr__kernel=linear;, score=0.208 total time=   0.1s\n",
      "[CV 3/3] END gbr__C=8, gbr__epsilon=1.7, gbr__kernel=linear;, score=0.355 total time=   0.2s\n",
      "[CV 1/3] END gbr__C=8, gbr__epsilon=2, gbr__kernel=rbf;, score=0.427 total time=   0.1s\n",
      "[CV 2/3] END gbr__C=8, gbr__epsilon=2, gbr__kernel=rbf;, score=0.407 total time=   0.1s\n",
      "[CV 3/3] END gbr__C=8, gbr__epsilon=2, gbr__kernel=rbf;, score=0.376 total time=   0.1s\n",
      "[CV 1/3] END gbr__C=8, gbr__epsilon=2, gbr__kernel=linear;, score=0.377 total time=   0.1s\n",
      "[CV 2/3] END gbr__C=8, gbr__epsilon=2, gbr__kernel=linear;, score=0.224 total time=   0.1s\n",
      "[CV 3/3] END gbr__C=8, gbr__epsilon=2, gbr__kernel=linear;, score=0.355 total time=   0.1s\n",
      "[CV 1/3] END gbr__C=8, gbr__epsilon=2.5, gbr__kernel=rbf;, score=0.410 total time=   0.1s\n",
      "[CV 2/3] END gbr__C=8, gbr__epsilon=2.5, gbr__kernel=rbf;, score=0.392 total time=   0.2s\n",
      "[CV 3/3] END gbr__C=8, gbr__epsilon=2.5, gbr__kernel=rbf;, score=0.378 total time=   0.1s\n",
      "[CV 1/3] END gbr__C=8, gbr__epsilon=2.5, gbr__kernel=linear;, score=0.361 total time=   0.1s\n",
      "[CV 2/3] END gbr__C=8, gbr__epsilon=2.5, gbr__kernel=linear;, score=0.223 total time=   0.1s\n",
      "[CV 3/3] END gbr__C=8, gbr__epsilon=2.5, gbr__kernel=linear;, score=0.352 total time=   0.1s\n",
      "[CV 1/3] END gbr__C=8, gbr__epsilon=3, gbr__kernel=rbf;, score=0.375 total time=   0.1s\n",
      "[CV 2/3] END gbr__C=8, gbr__epsilon=3, gbr__kernel=rbf;, score=0.360 total time=   0.1s\n",
      "[CV 3/3] END gbr__C=8, gbr__epsilon=3, gbr__kernel=rbf;, score=0.364 total time=   0.1s\n",
      "[CV 1/3] END gbr__C=8, gbr__epsilon=3, gbr__kernel=linear;, score=0.324 total time=   0.1s\n",
      "[CV 2/3] END gbr__C=8, gbr__epsilon=3, gbr__kernel=linear;, score=0.209 total time=   0.1s\n",
      "[CV 3/3] END gbr__C=8, gbr__epsilon=3, gbr__kernel=linear;, score=0.327 total time=   0.1s\n",
      "[CV 1/3] END gbr__C=9, gbr__epsilon=1, gbr__kernel=rbf;, score=0.426 total time=   0.3s\n",
      "[CV 2/3] END gbr__C=9, gbr__epsilon=1, gbr__kernel=rbf;, score=0.398 total time=   0.2s\n",
      "[CV 3/3] END gbr__C=9, gbr__epsilon=1, gbr__kernel=rbf;, score=0.354 total time=   0.2s\n",
      "[CV 1/3] END gbr__C=9, gbr__epsilon=1, gbr__kernel=linear;, score=0.362 total time=   0.2s\n"
     ]
    },
    {
     "name": "stdout",
     "output_type": "stream",
     "text": [
      "[CV 2/3] END gbr__C=9, gbr__epsilon=1, gbr__kernel=linear;, score=0.156 total time=   0.2s\n",
      "[CV 3/3] END gbr__C=9, gbr__epsilon=1, gbr__kernel=linear;, score=0.323 total time=   0.2s\n",
      "[CV 1/3] END gbr__C=9, gbr__epsilon=1.2, gbr__kernel=rbf;, score=0.425 total time=   0.2s\n",
      "[CV 2/3] END gbr__C=9, gbr__epsilon=1.2, gbr__kernel=rbf;, score=0.402 total time=   0.2s\n",
      "[CV 3/3] END gbr__C=9, gbr__epsilon=1.2, gbr__kernel=rbf;, score=0.360 total time=   0.2s\n",
      "[CV 1/3] END gbr__C=9, gbr__epsilon=1.2, gbr__kernel=linear;, score=0.367 total time=   0.2s\n",
      "[CV 2/3] END gbr__C=9, gbr__epsilon=1.2, gbr__kernel=linear;, score=0.167 total time=   0.2s\n",
      "[CV 3/3] END gbr__C=9, gbr__epsilon=1.2, gbr__kernel=linear;, score=0.335 total time=   0.2s\n",
      "[CV 1/3] END gbr__C=9, gbr__epsilon=1.3, gbr__kernel=rbf;, score=0.425 total time=   0.2s\n",
      "[CV 2/3] END gbr__C=9, gbr__epsilon=1.3, gbr__kernel=rbf;, score=0.403 total time=   0.2s\n",
      "[CV 3/3] END gbr__C=9, gbr__epsilon=1.3, gbr__kernel=rbf;, score=0.361 total time=   0.2s\n",
      "[CV 1/3] END gbr__C=9, gbr__epsilon=1.3, gbr__kernel=linear;, score=0.370 total time=   0.2s\n",
      "[CV 2/3] END gbr__C=9, gbr__epsilon=1.3, gbr__kernel=linear;, score=0.178 total time=   0.2s\n",
      "[CV 3/3] END gbr__C=9, gbr__epsilon=1.3, gbr__kernel=linear;, score=0.339 total time=   0.2s\n",
      "[CV 1/3] END gbr__C=9, gbr__epsilon=1.4, gbr__kernel=rbf;, score=0.425 total time=   0.2s\n",
      "[CV 2/3] END gbr__C=9, gbr__epsilon=1.4, gbr__kernel=rbf;, score=0.405 total time=   0.2s\n",
      "[CV 3/3] END gbr__C=9, gbr__epsilon=1.4, gbr__kernel=rbf;, score=0.362 total time=   0.2s\n",
      "[CV 1/3] END gbr__C=9, gbr__epsilon=1.4, gbr__kernel=linear;, score=0.372 total time=   0.1s\n",
      "[CV 2/3] END gbr__C=9, gbr__epsilon=1.4, gbr__kernel=linear;, score=0.191 total time=   0.1s\n",
      "[CV 3/3] END gbr__C=9, gbr__epsilon=1.4, gbr__kernel=linear;, score=0.344 total time=   0.2s\n",
      "[CV 1/3] END gbr__C=9, gbr__epsilon=1.5, gbr__kernel=rbf;, score=0.426 total time=   0.2s\n",
      "[CV 2/3] END gbr__C=9, gbr__epsilon=1.5, gbr__kernel=rbf;, score=0.407 total time=   0.2s\n",
      "[CV 3/3] END gbr__C=9, gbr__epsilon=1.5, gbr__kernel=rbf;, score=0.364 total time=   0.2s\n",
      "[CV 1/3] END gbr__C=9, gbr__epsilon=1.5, gbr__kernel=linear;, score=0.373 total time=   0.1s\n",
      "[CV 2/3] END gbr__C=9, gbr__epsilon=1.5, gbr__kernel=linear;, score=0.201 total time=   0.1s\n",
      "[CV 3/3] END gbr__C=9, gbr__epsilon=1.5, gbr__kernel=linear;, score=0.347 total time=   0.2s\n",
      "[CV 1/3] END gbr__C=9, gbr__epsilon=1.6, gbr__kernel=rbf;, score=0.427 total time=   0.2s\n",
      "[CV 2/3] END gbr__C=9, gbr__epsilon=1.6, gbr__kernel=rbf;, score=0.407 total time=   0.2s\n",
      "[CV 3/3] END gbr__C=9, gbr__epsilon=1.6, gbr__kernel=rbf;, score=0.366 total time=   0.2s\n",
      "[CV 1/3] END gbr__C=9, gbr__epsilon=1.6, gbr__kernel=linear;, score=0.376 total time=   0.1s\n",
      "[CV 2/3] END gbr__C=9, gbr__epsilon=1.6, gbr__kernel=linear;, score=0.210 total time=   0.1s\n",
      "[CV 3/3] END gbr__C=9, gbr__epsilon=1.6, gbr__kernel=linear;, score=0.353 total time=   0.2s\n",
      "[CV 1/3] END gbr__C=9, gbr__epsilon=1.7, gbr__kernel=rbf;, score=0.427 total time=   0.2s\n",
      "[CV 2/3] END gbr__C=9, gbr__epsilon=1.7, gbr__kernel=rbf;, score=0.407 total time=   0.2s\n",
      "[CV 3/3] END gbr__C=9, gbr__epsilon=1.7, gbr__kernel=rbf;, score=0.368 total time=   0.2s\n",
      "[CV 1/3] END gbr__C=9, gbr__epsilon=1.7, gbr__kernel=linear;, score=0.377 total time=   0.1s\n",
      "[CV 2/3] END gbr__C=9, gbr__epsilon=1.7, gbr__kernel=linear;, score=0.208 total time=   0.1s\n",
      "[CV 3/3] END gbr__C=9, gbr__epsilon=1.7, gbr__kernel=linear;, score=0.355 total time=   0.2s\n",
      "[CV 1/3] END gbr__C=9, gbr__epsilon=2, gbr__kernel=rbf;, score=0.427 total time=   0.2s\n",
      "[CV 2/3] END gbr__C=9, gbr__epsilon=2, gbr__kernel=rbf;, score=0.407 total time=   0.2s\n",
      "[CV 3/3] END gbr__C=9, gbr__epsilon=2, gbr__kernel=rbf;, score=0.376 total time=   0.2s\n",
      "[CV 1/3] END gbr__C=9, gbr__epsilon=2, gbr__kernel=linear;, score=0.377 total time=   0.1s\n",
      "[CV 2/3] END gbr__C=9, gbr__epsilon=2, gbr__kernel=linear;, score=0.224 total time=   0.1s\n",
      "[CV 3/3] END gbr__C=9, gbr__epsilon=2, gbr__kernel=linear;, score=0.355 total time=   0.1s\n",
      "[CV 1/3] END gbr__C=9, gbr__epsilon=2.5, gbr__kernel=rbf;, score=0.410 total time=   0.1s\n",
      "[CV 2/3] END gbr__C=9, gbr__epsilon=2.5, gbr__kernel=rbf;, score=0.393 total time=   0.1s\n",
      "[CV 3/3] END gbr__C=9, gbr__epsilon=2.5, gbr__kernel=rbf;, score=0.378 total time=   0.1s\n",
      "[CV 1/3] END gbr__C=9, gbr__epsilon=2.5, gbr__kernel=linear;, score=0.361 total time=   0.1s\n",
      "[CV 2/3] END gbr__C=9, gbr__epsilon=2.5, gbr__kernel=linear;, score=0.223 total time=   0.1s\n",
      "[CV 3/3] END gbr__C=9, gbr__epsilon=2.5, gbr__kernel=linear;, score=0.352 total time=   0.1s\n",
      "[CV 1/3] END gbr__C=9, gbr__epsilon=3, gbr__kernel=rbf;, score=0.376 total time=   0.1s\n",
      "[CV 2/3] END gbr__C=9, gbr__epsilon=3, gbr__kernel=rbf;, score=0.360 total time=   0.1s\n",
      "[CV 3/3] END gbr__C=9, gbr__epsilon=3, gbr__kernel=rbf;, score=0.365 total time=   0.1s\n",
      "[CV 1/3] END gbr__C=9, gbr__epsilon=3, gbr__kernel=linear;, score=0.324 total time=   0.1s\n",
      "[CV 2/3] END gbr__C=9, gbr__epsilon=3, gbr__kernel=linear;, score=0.209 total time=   0.1s\n",
      "[CV 3/3] END gbr__C=9, gbr__epsilon=3, gbr__kernel=linear;, score=0.327 total time=   0.1s\n",
      "[CV 1/3] END gbr__C=10, gbr__epsilon=1, gbr__kernel=rbf;, score=0.426 total time=   0.2s\n",
      "[CV 2/3] END gbr__C=10, gbr__epsilon=1, gbr__kernel=rbf;, score=0.398 total time=   0.2s\n",
      "[CV 3/3] END gbr__C=10, gbr__epsilon=1, gbr__kernel=rbf;, score=0.354 total time=   0.2s\n",
      "[CV 1/3] END gbr__C=10, gbr__epsilon=1, gbr__kernel=linear;, score=0.362 total time=   0.2s\n",
      "[CV 2/3] END gbr__C=10, gbr__epsilon=1, gbr__kernel=linear;, score=0.156 total time=   0.2s\n",
      "[CV 3/3] END gbr__C=10, gbr__epsilon=1, gbr__kernel=linear;, score=0.323 total time=   0.3s\n",
      "[CV 1/3] END gbr__C=10, gbr__epsilon=1.2, gbr__kernel=rbf;, score=0.425 total time=   0.2s\n",
      "[CV 2/3] END gbr__C=10, gbr__epsilon=1.2, gbr__kernel=rbf;, score=0.402 total time=   0.2s\n",
      "[CV 3/3] END gbr__C=10, gbr__epsilon=1.2, gbr__kernel=rbf;, score=0.360 total time=   0.2s\n",
      "[CV 1/3] END gbr__C=10, gbr__epsilon=1.2, gbr__kernel=linear;, score=0.367 total time=   0.1s\n",
      "[CV 2/3] END gbr__C=10, gbr__epsilon=1.2, gbr__kernel=linear;, score=0.166 total time=   0.2s\n",
      "[CV 3/3] END gbr__C=10, gbr__epsilon=1.2, gbr__kernel=linear;, score=0.335 total time=   0.2s\n",
      "[CV 1/3] END gbr__C=10, gbr__epsilon=1.3, gbr__kernel=rbf;, score=0.426 total time=   0.2s\n",
      "[CV 2/3] END gbr__C=10, gbr__epsilon=1.3, gbr__kernel=rbf;, score=0.403 total time=   0.2s\n",
      "[CV 3/3] END gbr__C=10, gbr__epsilon=1.3, gbr__kernel=rbf;, score=0.362 total time=   0.2s\n",
      "[CV 1/3] END gbr__C=10, gbr__epsilon=1.3, gbr__kernel=linear;, score=0.370 total time=   0.1s\n",
      "[CV 2/3] END gbr__C=10, gbr__epsilon=1.3, gbr__kernel=linear;, score=0.178 total time=   0.2s\n",
      "[CV 3/3] END gbr__C=10, gbr__epsilon=1.3, gbr__kernel=linear;, score=0.339 total time=   0.1s\n",
      "[CV 1/3] END gbr__C=10, gbr__epsilon=1.4, gbr__kernel=rbf;, score=0.425 total time=   0.2s\n",
      "[CV 2/3] END gbr__C=10, gbr__epsilon=1.4, gbr__kernel=rbf;, score=0.405 total time=   0.2s\n",
      "[CV 3/3] END gbr__C=10, gbr__epsilon=1.4, gbr__kernel=rbf;, score=0.362 total time=   0.2s\n",
      "[CV 1/3] END gbr__C=10, gbr__epsilon=1.4, gbr__kernel=linear;, score=0.372 total time=   0.1s\n",
      "[CV 2/3] END gbr__C=10, gbr__epsilon=1.4, gbr__kernel=linear;, score=0.191 total time=   0.2s\n",
      "[CV 3/3] END gbr__C=10, gbr__epsilon=1.4, gbr__kernel=linear;, score=0.344 total time=   0.2s\n",
      "[CV 1/3] END gbr__C=10, gbr__epsilon=1.5, gbr__kernel=rbf;, score=0.426 total time=   0.2s\n",
      "[CV 2/3] END gbr__C=10, gbr__epsilon=1.5, gbr__kernel=rbf;, score=0.407 total time=   0.2s\n",
      "[CV 3/3] END gbr__C=10, gbr__epsilon=1.5, gbr__kernel=rbf;, score=0.365 total time=   0.2s\n",
      "[CV 1/3] END gbr__C=10, gbr__epsilon=1.5, gbr__kernel=linear;, score=0.373 total time=   0.1s\n",
      "[CV 2/3] END gbr__C=10, gbr__epsilon=1.5, gbr__kernel=linear;, score=0.201 total time=   0.2s\n",
      "[CV 3/3] END gbr__C=10, gbr__epsilon=1.5, gbr__kernel=linear;, score=0.347 total time=   0.1s\n",
      "[CV 1/3] END gbr__C=10, gbr__epsilon=1.6, gbr__kernel=rbf;, score=0.426 total time=   0.2s\n",
      "[CV 2/3] END gbr__C=10, gbr__epsilon=1.6, gbr__kernel=rbf;, score=0.407 total time=   0.2s\n",
      "[CV 3/3] END gbr__C=10, gbr__epsilon=1.6, gbr__kernel=rbf;, score=0.366 total time=   0.2s\n",
      "[CV 1/3] END gbr__C=10, gbr__epsilon=1.6, gbr__kernel=linear;, score=0.376 total time=   0.1s\n"
     ]
    },
    {
     "name": "stdout",
     "output_type": "stream",
     "text": [
      "[CV 2/3] END gbr__C=10, gbr__epsilon=1.6, gbr__kernel=linear;, score=0.210 total time=   0.1s\n",
      "[CV 3/3] END gbr__C=10, gbr__epsilon=1.6, gbr__kernel=linear;, score=0.353 total time=   0.2s\n",
      "[CV 1/3] END gbr__C=10, gbr__epsilon=1.7, gbr__kernel=rbf;, score=0.427 total time=   0.2s\n",
      "[CV 2/3] END gbr__C=10, gbr__epsilon=1.7, gbr__kernel=rbf;, score=0.407 total time=   0.2s\n",
      "[CV 3/3] END gbr__C=10, gbr__epsilon=1.7, gbr__kernel=rbf;, score=0.368 total time=   0.1s\n",
      "[CV 1/3] END gbr__C=10, gbr__epsilon=1.7, gbr__kernel=linear;, score=0.377 total time=   0.1s\n",
      "[CV 2/3] END gbr__C=10, gbr__epsilon=1.7, gbr__kernel=linear;, score=0.208 total time=   0.1s\n",
      "[CV 3/3] END gbr__C=10, gbr__epsilon=1.7, gbr__kernel=linear;, score=0.355 total time=   0.1s\n",
      "[CV 1/3] END gbr__C=10, gbr__epsilon=2, gbr__kernel=rbf;, score=0.427 total time=   0.1s\n",
      "[CV 2/3] END gbr__C=10, gbr__epsilon=2, gbr__kernel=rbf;, score=0.407 total time=   0.1s\n",
      "[CV 3/3] END gbr__C=10, gbr__epsilon=2, gbr__kernel=rbf;, score=0.376 total time=   0.1s\n",
      "[CV 1/3] END gbr__C=10, gbr__epsilon=2, gbr__kernel=linear;, score=0.377 total time=   0.1s\n",
      "[CV 2/3] END gbr__C=10, gbr__epsilon=2, gbr__kernel=linear;, score=0.224 total time=   0.1s\n",
      "[CV 3/3] END gbr__C=10, gbr__epsilon=2, gbr__kernel=linear;, score=0.355 total time=   0.1s\n",
      "[CV 1/3] END gbr__C=10, gbr__epsilon=2.5, gbr__kernel=rbf;, score=0.411 total time=   0.1s\n",
      "[CV 2/3] END gbr__C=10, gbr__epsilon=2.5, gbr__kernel=rbf;, score=0.393 total time=   0.1s\n",
      "[CV 3/3] END gbr__C=10, gbr__epsilon=2.5, gbr__kernel=rbf;, score=0.378 total time=   0.1s\n",
      "[CV 1/3] END gbr__C=10, gbr__epsilon=2.5, gbr__kernel=linear;, score=0.361 total time=   0.1s\n",
      "[CV 2/3] END gbr__C=10, gbr__epsilon=2.5, gbr__kernel=linear;, score=0.223 total time=   0.1s\n",
      "[CV 3/3] END gbr__C=10, gbr__epsilon=2.5, gbr__kernel=linear;, score=0.352 total time=   0.1s\n",
      "[CV 1/3] END gbr__C=10, gbr__epsilon=3, gbr__kernel=rbf;, score=0.376 total time=   0.1s\n",
      "[CV 2/3] END gbr__C=10, gbr__epsilon=3, gbr__kernel=rbf;, score=0.360 total time=   0.1s\n",
      "[CV 3/3] END gbr__C=10, gbr__epsilon=3, gbr__kernel=rbf;, score=0.364 total time=   0.1s\n",
      "[CV 1/3] END gbr__C=10, gbr__epsilon=3, gbr__kernel=linear;, score=0.324 total time=   0.1s\n",
      "[CV 2/3] END gbr__C=10, gbr__epsilon=3, gbr__kernel=linear;, score=0.209 total time=   0.1s\n",
      "[CV 3/3] END gbr__C=10, gbr__epsilon=3, gbr__kernel=linear;, score=0.327 total time=   0.1s\n"
     ]
    }
   ],
   "source": [
    "gs_res = grid.fit(X_train_alive, y_train)"
   ]
  },
  {
   "cell_type": "code",
   "execution_count": 407,
   "id": "1ba583b6",
   "metadata": {},
   "outputs": [
    {
     "data": {
      "text/plain": [
       "Pipeline(steps=[('preproc',\n",
       "                 Pipeline(steps=[('encoder',\n",
       "                                  ColumnTransformer(remainder='passthrough',\n",
       "                                                    transformers=[('area',\n",
       "                                                                   AreaTransformer(),\n",
       "                                                                   ['Length',\n",
       "                                                                    'Diameter'])])),\n",
       "                                 ('scaler', StandardScaler())])),\n",
       "                ('gbr', SVR(C=9, epsilon=2))])"
      ]
     },
     "execution_count": 407,
     "metadata": {},
     "output_type": "execute_result"
    }
   ],
   "source": [
    "gs_res.best_estimator_"
   ]
  },
  {
   "cell_type": "code",
   "execution_count": 408,
   "id": "643973f7",
   "metadata": {},
   "outputs": [
    {
     "data": {
      "text/plain": [
       "0.4032482258152661"
      ]
     },
     "execution_count": 408,
     "metadata": {},
     "output_type": "execute_result"
    }
   ],
   "source": [
    "gs_res.best_score_"
   ]
  },
  {
   "cell_type": "code",
   "execution_count": 409,
   "id": "70e094b6",
   "metadata": {},
   "outputs": [
    {
     "data": {
      "text/plain": [
       "{'gbr__C': 9, 'gbr__epsilon': 2, 'gbr__kernel': 'rbf'}"
      ]
     },
     "execution_count": 409,
     "metadata": {},
     "output_type": "execute_result"
    }
   ],
   "source": [
    "gs_res.best_params_"
   ]
  },
  {
   "cell_type": "code",
   "execution_count": null,
   "id": "b31d5f1a",
   "metadata": {
    "scrolled": true
   },
   "outputs": [],
   "source": [
    "preproc.fit_transform(X_train).shape"
   ]
  },
  {
   "cell_type": "code",
   "execution_count": 260,
   "id": "8c70191d",
   "metadata": {},
   "outputs": [
    {
     "name": "stdout",
     "output_type": "stream",
     "text": [
      "abs error:  -1.5231582487685251\n",
      "% error:  -0.12910256446784846\n",
      "r2:  0.5358080345348778\n"
     ]
    }
   ],
   "source": [
    "best_rf = Pipeline([\n",
    "    ('preproc', preproc),\n",
    "    ('rf', RandomForestRegressor(max_depth=8, n_estimators=400))  \n",
    "])\n",
    "\n",
    "\n",
    "res = cross_validate(best_rf, \n",
    "               X_train, \n",
    "               y_train, \n",
    "               cv = 5, \n",
    "               scoring = ['neg_mean_absolute_error','neg_mean_absolute_percentage_error', 'r2'])\n",
    "\n",
    "print('abs error: ', res['test_neg_mean_absolute_error'].mean())\n",
    "print('% error: ', res['test_neg_mean_absolute_percentage_error'].mean())\n",
    "print('r2: ', res['test_r2'].mean())"
   ]
  },
  {
   "cell_type": "code",
   "execution_count": 395,
   "id": "15956c0b",
   "metadata": {},
   "outputs": [],
   "source": [
    "small_rf = Pipeline([\n",
    "    ('preproc', preproc),\n",
    "    ('rf', RandomForestRegressor(max_depth=6, n_estimators=600))  \n",
    "])\n"
   ]
  },
  {
   "cell_type": "code",
   "execution_count": 396,
   "id": "7a4c9af5",
   "metadata": {},
   "outputs": [
    {
     "name": "stdout",
     "output_type": "stream",
     "text": [
      "abs error:  -1.7845219186395045\n",
      "% error:  -0.15016133903971435\n",
      "r2:  0.3978549471099024\n"
     ]
    }
   ],
   "source": [
    "res = cross_validate(small_rf, \n",
    "               X_train_alive, \n",
    "               y_train, \n",
    "               cv = 5, \n",
    "               scoring = ['neg_mean_absolute_error','neg_mean_absolute_percentage_error', 'r2'])\n",
    "\n",
    "print('abs error: ', res['test_neg_mean_absolute_error'].mean())\n",
    "print('% error: ', res['test_neg_mean_absolute_percentage_error'].mean())\n",
    "print('r2: ', res['test_r2'].mean())"
   ]
  },
  {
   "cell_type": "code",
   "execution_count": 403,
   "id": "9ba84d18",
   "metadata": {},
   "outputs": [
    {
     "name": "stdout",
     "output_type": "stream",
     "text": [
      "abs error:  -1.7642672713388499\n",
      "% error:  -0.14859376838744723\n",
      "r2:  0.4074721381840474\n"
     ]
    }
   ],
   "source": [
    "best_knn = Pipeline([\n",
    "    ('preproc', preproc),\n",
    "    ('knn', KNeighborsRegressor(n_neighbors = 75))  \n",
    "])\n",
    "\n",
    "\n",
    "res = cross_validate(best_knn, \n",
    "               X_train_alive, \n",
    "               y_train, \n",
    "               cv = 10, \n",
    "               scoring = ['neg_mean_absolute_error','neg_mean_absolute_percentage_error', 'r2'])\n",
    "\n",
    "print('abs error: ', res['test_neg_mean_absolute_error'].mean())\n",
    "print('% error: ', res['test_neg_mean_absolute_percentage_error'].mean())\n",
    "print('r2: ', res['test_r2'].mean())"
   ]
  },
  {
   "cell_type": "code",
   "execution_count": 410,
   "id": "f818bc73",
   "metadata": {},
   "outputs": [
    {
     "name": "stdout",
     "output_type": "stream",
     "text": [
      "abs error:  -1.7952613703527938\n",
      "% error:  -0.15295394463081752\n",
      "r2:  0.40389087364212967\n"
     ]
    }
   ],
   "source": [
    "best_svr = Pipeline([\n",
    "    ('preproc', preproc),\n",
    "    ('gbr', SVR(C=9, epsilon=2))\n",
    "])\n",
    "\n",
    "res = cross_validate(best_svr, \n",
    "               X_train_alive, \n",
    "               y_train, \n",
    "               cv = 10,\n",
    "               scoring = ['neg_mean_absolute_error','neg_mean_absolute_percentage_error', 'r2'])\n",
    "\n",
    "print('abs error: ', res['test_neg_mean_absolute_error'].mean())\n",
    "print('% error: ', res['test_neg_mean_absolute_percentage_error'].mean())\n",
    "print('r2: ', res['test_r2'].mean())"
   ]
  },
  {
   "cell_type": "code",
   "execution_count": 386,
   "id": "e377c675",
   "metadata": {},
   "outputs": [
    {
     "name": "stdout",
     "output_type": "stream",
     "text": [
      "abs error:  -1.7483057702538232\n",
      "% error:  -0.14629956842236116\n",
      "r2:  0.4072574214062133\n"
     ]
    }
   ],
   "source": [
    "voter = VotingRegressor([('svr', best_svr), \n",
    "                         ('knn', best_knn), \n",
    "                         ('rf', small_rf)])\n",
    "\n",
    "\n",
    "res = cross_validate(voter, \n",
    "               X_train_alive, \n",
    "               y_train, \n",
    "               cv = 5, \n",
    "               scoring = ['neg_mean_absolute_error','neg_mean_absolute_percentage_error', 'r2'])\n",
    "\n",
    "print('abs error: ', res['test_neg_mean_absolute_error'].mean())\n",
    "print('% error: ', res['test_neg_mean_absolute_percentage_error'].mean())\n",
    "print('r2: ', res['test_r2'].mean())"
   ]
  },
  {
   "cell_type": "code",
   "execution_count": 411,
   "id": "c40f301a",
   "metadata": {},
   "outputs": [
    {
     "data": {
      "text/plain": [
       "Pipeline(steps=[('preproc',\n",
       "                 Pipeline(steps=[('encoder',\n",
       "                                  ColumnTransformer(remainder='passthrough',\n",
       "                                                    transformers=[('area',\n",
       "                                                                   AreaTransformer(),\n",
       "                                                                   ['Length',\n",
       "                                                                    'Diameter'])])),\n",
       "                                 ('scaler', StandardScaler())])),\n",
       "                ('knn', KNeighborsRegressor(n_neighbors=75))])"
      ]
     },
     "execution_count": 411,
     "metadata": {},
     "output_type": "execute_result"
    }
   ],
   "source": [
    "best_knn.fit(X_train_alive, y_train)"
   ]
  },
  {
   "cell_type": "code",
   "execution_count": 412,
   "id": "30d66c9b",
   "metadata": {},
   "outputs": [],
   "source": [
    "y_pred = best_knn.predict(X_test_alive)"
   ]
  },
  {
   "cell_type": "code",
   "execution_count": 439,
   "id": "9944e096",
   "metadata": {},
   "outputs": [],
   "source": [
    "resid = y_test - y_pred"
   ]
  },
  {
   "cell_type": "code",
   "execution_count": 440,
   "id": "4bb1e1ba",
   "metadata": {
    "scrolled": true
   },
   "outputs": [
    {
     "data": {
      "image/png": "[encoded data removed]",
      "text/plain": [
       "<Figure size 432x288 with 1 Axes>"
      ]
     },
     "metadata": {
      "needs_background": "light"
     },
     "output_type": "display_data"
    }
   ],
   "source": [
    "plt.hist(e, bins = 70)\n",
    "plt.show()"
   ]
  },
  {
   "cell_type": "code",
   "execution_count": 441,
   "id": "5a5fb52d",
   "metadata": {},
   "outputs": [
    {
     "data": {
      "text/html": [
       "<div>\n",
       "<style scoped>\n",
       "    .dataframe tbody tr th:only-of-type {\n",
       "        vertical-align: middle;\n",
       "    }\n",
       "\n",
       "    .dataframe tbody tr th {\n",
       "        vertical-align: top;\n",
       "    }\n",
       "\n",
       "    .dataframe thead th {\n",
       "        text-align: right;\n",
       "    }\n",
       "</style>\n",
       "<table border=\"1\" class=\"dataframe\">\n",
       "  <thead>\n",
       "    <tr style=\"text-align: right;\">\n",
       "      <th></th>\n",
       "      <th>sumsquare_error</th>\n",
       "      <th>aic</th>\n",
       "      <th>bic</th>\n",
       "      <th>kl_div</th>\n",
       "    </tr>\n",
       "  </thead>\n",
       "  <tbody>\n",
       "    <tr>\n",
       "      <th>lognorm</th>\n",
       "      <td>0.054450</td>\n",
       "      <td>993.185840</td>\n",
       "      <td>-12574.491668</td>\n",
       "      <td>inf</td>\n",
       "    </tr>\n",
       "    <tr>\n",
       "      <th>gamma</th>\n",
       "      <td>0.066221</td>\n",
       "      <td>992.634628</td>\n",
       "      <td>-12329.057472</td>\n",
       "      <td>inf</td>\n",
       "    </tr>\n",
       "    <tr>\n",
       "      <th>norm</th>\n",
       "      <td>0.119676</td>\n",
       "      <td>1059.542876</td>\n",
       "      <td>-11594.090041</td>\n",
       "      <td>inf</td>\n",
       "    </tr>\n",
       "  </tbody>\n",
       "</table>\n",
       "</div>"
      ],
      "text/plain": [
       "         sumsquare_error          aic           bic  kl_div\n",
       "lognorm         0.054450   993.185840 -12574.491668     inf\n",
       "gamma           0.066221   992.634628 -12329.057472     inf\n",
       "norm            0.119676  1059.542876 -11594.090041     inf"
      ]
     },
     "execution_count": 441,
     "metadata": {},
     "output_type": "execute_result"
    },
    {
     "data": {
      "image/png": "[encoded data removed]",
      "text/plain": [
       "<Figure size 432x288 with 1 Axes>"
      ]
     },
     "metadata": {
      "needs_background": "light"
     },
     "output_type": "display_data"
    }
   ],
   "source": [
    "f = Fitter(resid,\n",
    "           distributions=['gamma',\n",
    "                          'lognorm',\n",
    "                          \"norm\"])\n",
    "f.fit()\n",
    "f.summary()"
   ]
  },
  {
   "cell_type": "code",
   "execution_count": 442,
   "id": "70166a58",
   "metadata": {},
   "outputs": [
    {
     "data": {
      "text/plain": [
       "{'lognorm': {'s': 0.2903536283203024,\n",
       "  'loc': -8.223766419970094,\n",
       "  'scale': 8.000632973645498}}"
      ]
     },
     "execution_count": 442,
     "metadata": {},
     "output_type": "execute_result"
    }
   ],
   "source": [
    "f.get_best(method = 'sumsquare_error')"
   ]
  },
  {
   "cell_type": "code",
   "execution_count": 438,
   "id": "48043ae6",
   "metadata": {},
   "outputs": [
    {
     "data": {
      "text/plain": [
       "[<matplotlib.lines.Line2D at 0x12dfc13d0>]"
      ]
     },
     "execution_count": 438,
     "metadata": {},
     "output_type": "execute_result"
    },
    {
     "data": {
      "image/png": "[encoded data removed]",
      "text/plain": [
       "<Figure size 432x288 with 1 Axes>"
      ]
     },
     "metadata": {
      "needs_background": "light"
     },
     "output_type": "display_data"
    }
   ],
   "source": [
    "from pylab import linspace, plot \n",
    "import scipy.stats.lognorm as dist\n",
    "\n",
    "X = linspace(-10,10, 50)\n",
    "pdf_fitted = dist.pdf(X, \n",
    "                      s = 0.2903536283203024,\n",
    "                      loc = -8.223766419970094,\n",
    "                      scale = 8.000632973645498)\n"
   ]
  },
  {
   "cell_type": "code",
   "execution_count": 446,
   "id": "4beb5100",
   "metadata": {},
   "outputs": [],
   "source": [
    "# new prediction\n",
    "X_pred = pd.DataFrame({'Length':[134.0],\n",
    "                    'Diameter':[101.0],\n",
    "                    'Height': [32.0]})\n",
    "\n",
    "X_pred = X_pred / 200"
   ]
  },
  {
   "cell_type": "code",
   "execution_count": 447,
   "id": "010a09e6",
   "metadata": {},
   "outputs": [
    {
     "data": {
      "text/html": [
       "<div>\n",
       "<style scoped>\n",
       "    .dataframe tbody tr th:only-of-type {\n",
       "        vertical-align: middle;\n",
       "    }\n",
       "\n",
       "    .dataframe tbody tr th {\n",
       "        vertical-align: top;\n",
       "    }\n",
       "\n",
       "    .dataframe thead th {\n",
       "        text-align: right;\n",
       "    }\n",
       "</style>\n",
       "<table border=\"1\" class=\"dataframe\">\n",
       "  <thead>\n",
       "    <tr style=\"text-align: right;\">\n",
       "      <th></th>\n",
       "      <th>Length</th>\n",
       "      <th>Diameter</th>\n",
       "      <th>Height</th>\n",
       "    </tr>\n",
       "  </thead>\n",
       "  <tbody>\n",
       "    <tr>\n",
       "      <th>0</th>\n",
       "      <td>0.67</td>\n",
       "      <td>0.505</td>\n",
       "      <td>0.16</td>\n",
       "    </tr>\n",
       "  </tbody>\n",
       "</table>\n",
       "</div>"
      ],
      "text/plain": [
       "   Length  Diameter  Height\n",
       "0    0.67     0.505    0.16"
      ]
     },
     "execution_count": 447,
     "metadata": {},
     "output_type": "execute_result"
    }
   ],
   "source": [
    "X_pred"
   ]
  },
  {
   "cell_type": "code",
   "execution_count": 448,
   "id": "7baaaec3",
   "metadata": {},
   "outputs": [
    {
     "data": {
      "text/plain": [
       "array([12.40666667])"
      ]
     },
     "execution_count": 448,
     "metadata": {},
     "output_type": "execute_result"
    }
   ],
   "source": [
    "best_knn.predict(X_pred)"
   ]
  },
  {
   "cell_type": "code",
   "execution_count": null,
   "id": "1f7ea95b",
   "metadata": {},
   "outputs": [],
   "source": [
    "X = linspace(-10,10, 50)\n",
    "pdf_fitted = dist.pdf(X, \n",
    "                      s = 0.2903536283203024,\n",
    "                      loc = -8.223766419970094,\n",
    "                      scale = 8.000632973645498)\n"
   ]
  },
  {
   "cell_type": "code",
   "execution_count": 450,
   "id": "dc1c62a8",
   "metadata": {},
   "outputs": [
    {
     "data": {
      "text/plain": [
       "(2.5, 30.5)"
      ]
     },
     "execution_count": 450,
     "metadata": {},
     "output_type": "execute_result"
    }
   ],
   "source": [
    "min(y), max(y)"
   ]
  },
  {
   "cell_type": "code",
   "execution_count": 451,
   "id": "6a0baec0",
   "metadata": {},
   "outputs": [
    {
     "data": {
      "text/plain": [
       "array([0.00000000e+00, 0.00000000e+00, 0.00000000e+00, 0.00000000e+00,\n",
       "       0.00000000e+00, 6.02608710e-30, 3.31600421e-16, 6.07544027e-11,\n",
       "       4.82501307e-08, 3.35228147e-06, 6.13050631e-05, 4.93298864e-04,\n",
       "       2.30238395e-03, 7.33955114e-03, 1.77229913e-02, 3.47349915e-02,\n",
       "       5.79687716e-02, 8.52657905e-02, 1.13381170e-01, 1.38935985e-01,\n",
       "       1.59219572e-01, 1.72619607e-01, 1.78675430e-01, 1.77872433e-01,\n",
       "       1.71321133e-01, 1.60433763e-01, 1.46663144e-01, 1.31326693e-01,\n",
       "       1.15511160e-01, 1.00040501e-01, 8.54860591e-02, 7.22005691e-02,\n",
       "       6.03620203e-02, 5.00181640e-02, 4.11264118e-02, 3.35867562e-02,\n",
       "       2.72672201e-02, 2.20224070e-02, 1.77062291e-02, 1.41800301e-02,\n",
       "       1.13172565e-02, 9.00566624e-03, 7.14787367e-03, 5.66083575e-03,\n",
       "       4.47472462e-03, 3.53149573e-03, 2.78335819e-03, 2.19127766e-03,\n",
       "       1.72358703e-03, 1.35474332e-03])"
      ]
     },
     "execution_count": 451,
     "metadata": {},
     "output_type": "execute_result"
    }
   ],
   "source": []
  },
  {
   "cell_type": "code",
   "execution_count": null,
   "id": "793b675f",
   "metadata": {},
   "outputs": [],
   "source": [
    "plot(X, \n",
    "     pdf_fitted, \n",
    "     'o-')"
   ]
  },
  {
   "cell_type": "code",
   "execution_count": 427,
   "id": "fd9070f0",
   "metadata": {},
   "outputs": [],
   "source": [
    "# neural net classification"
   ]
  },
  {
   "cell_type": "code",
   "execution_count": null,
   "id": "2e4f46b6",
   "metadata": {},
   "outputs": [],
   "source": []
  },
  {
   "cell_type": "code",
   "execution_count": null,
   "id": "c3b183c4",
   "metadata": {},
   "outputs": [],
   "source": []
  },
  {
   "cell_type": "code",
   "execution_count": null,
   "id": "38914145",
   "metadata": {},
   "outputs": [],
   "source": []
  },
  {
   "cell_type": "code",
   "execution_count": null,
   "id": "7e769bf1",
   "metadata": {},
   "outputs": [],
   "source": []
  },
  {
   "cell_type": "code",
   "execution_count": null,
   "id": "9987955c",
   "metadata": {},
   "outputs": [],
   "source": []
  }
 ],
 "metadata": {
  "kernelspec": {
   "display_name": "Python 3 (ipykernel)",
   "language": "python",
   "name": "python3"
  },
  "language_info": {
   "codemirror_mode": {
    "name": "ipython",
    "version": 3
   },
   "file_extension": ".py",
   "mimetype": "text/x-python",
   "name": "python",
   "nbconvert_exporter": "python",
   "pygments_lexer": "ipython3",
   "version": "3.8.6"
  }
 },
 "nbformat": 4,
 "nbformat_minor": 5
}
