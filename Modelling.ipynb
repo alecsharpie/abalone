{
 "cells": [
  {
   "cell_type": "code",
   "execution_count": 58,
   "id": "a485c700",
   "metadata": {},
   "outputs": [],
   "source": [
    "import pandas as pd\n",
    "import numpy as np\n",
    "import matplotlib.pyplot as plt\n",
    "import seaborn as sns"
   ]
  },
  {
   "cell_type": "code",
   "execution_count": 122,
   "id": "5044452e",
   "metadata": {},
   "outputs": [],
   "source": [
    "from sklearn.preprocessing import MinMaxScaler\n",
    "from sklearn.preprocessing import StandardScaler\n",
    "from sklearn.preprocessing import OneHotEncoder\n",
    "from sklearn.pipeline import Pipeline\n",
    "from sklearn.compose import ColumnTransformer\n",
    "\n",
    "from sklearn.base import BaseEstimator, TransformerMixin\n",
    "\n",
    "from sklearn.model_selection import GridSearchCV\n",
    "\n",
    "from sklearn.ensemble import GradientBoostingRegressor\n",
    "from sklearn.ensemble import RandomForestRegressor\n",
    "from sklearn.linear_model import LinearRegression\n",
    "\n",
    "from sklearn.model_selection import train_test_split\n",
    "from sklearn.model_selection import cross_validate\n",
    "\n",
    "from sklearn.metrics import mean_absolute_percentage_error\n",
    "from sklearn.metrics import SCORERS\n",
    "from sklearn.metrics import r2_score"
   ]
  },
  {
   "cell_type": "code",
   "execution_count": 76,
   "id": "b9c0c4c6",
   "metadata": {},
   "outputs": [],
   "source": [
    "df = pd.read_csv(\"abalone.csv\")"
   ]
  },
  {
   "cell_type": "code",
   "execution_count": 77,
   "id": "46e1e86e",
   "metadata": {},
   "outputs": [
    {
     "data": {
      "text/html": [
       "<div>\n",
       "<style scoped>\n",
       "    .dataframe tbody tr th:only-of-type {\n",
       "        vertical-align: middle;\n",
       "    }\n",
       "\n",
       "    .dataframe tbody tr th {\n",
       "        vertical-align: top;\n",
       "    }\n",
       "\n",
       "    .dataframe thead th {\n",
       "        text-align: right;\n",
       "    }\n",
       "</style>\n",
       "<table border=\"1\" class=\"dataframe\">\n",
       "  <thead>\n",
       "    <tr style=\"text-align: right;\">\n",
       "      <th></th>\n",
       "      <th>Sex</th>\n",
       "      <th>Length</th>\n",
       "      <th>Diameter</th>\n",
       "      <th>Height</th>\n",
       "      <th>Whole weight</th>\n",
       "      <th>Shucked weight</th>\n",
       "      <th>Viscera weight</th>\n",
       "      <th>Shell weight</th>\n",
       "      <th>Rings</th>\n",
       "    </tr>\n",
       "  </thead>\n",
       "  <tbody>\n",
       "    <tr>\n",
       "      <th>0</th>\n",
       "      <td>M</td>\n",
       "      <td>0.455</td>\n",
       "      <td>0.365</td>\n",
       "      <td>0.095</td>\n",
       "      <td>0.5140</td>\n",
       "      <td>0.2245</td>\n",
       "      <td>0.1010</td>\n",
       "      <td>0.15</td>\n",
       "      <td>15</td>\n",
       "    </tr>\n",
       "    <tr>\n",
       "      <th>1</th>\n",
       "      <td>M</td>\n",
       "      <td>0.350</td>\n",
       "      <td>0.265</td>\n",
       "      <td>0.090</td>\n",
       "      <td>0.2255</td>\n",
       "      <td>0.0995</td>\n",
       "      <td>0.0485</td>\n",
       "      <td>0.07</td>\n",
       "      <td>7</td>\n",
       "    </tr>\n",
       "  </tbody>\n",
       "</table>\n",
       "</div>"
      ],
      "text/plain": [
       "  Sex  Length  Diameter  Height  Whole weight  Shucked weight  Viscera weight  \\\n",
       "0   M   0.455     0.365   0.095        0.5140          0.2245          0.1010   \n",
       "1   M   0.350     0.265   0.090        0.2255          0.0995          0.0485   \n",
       "\n",
       "   Shell weight  Rings  \n",
       "0          0.15     15  \n",
       "1          0.07      7  "
      ]
     },
     "execution_count": 77,
     "metadata": {},
     "output_type": "execute_result"
    }
   ],
   "source": [
    "df.head(2)"
   ]
  },
  {
   "cell_type": "code",
   "execution_count": 78,
   "id": "c58d1a25",
   "metadata": {},
   "outputs": [
    {
     "data": {
      "text/plain": [
       "array([15,  7,  9, 10,  8, 20, 16, 19, 14, 11, 12, 18, 13,  5,  4,  6, 21,\n",
       "       17, 22,  1,  3, 26, 23, 29,  2, 27, 25, 24])"
      ]
     },
     "execution_count": 78,
     "metadata": {},
     "output_type": "execute_result"
    }
   ],
   "source": [
    "df.Rings.unique()"
   ]
  },
  {
   "cell_type": "code",
   "execution_count": 79,
   "id": "34776b7b",
   "metadata": {},
   "outputs": [],
   "source": [
    "X = df.drop(columns = 'Rings')"
   ]
  },
  {
   "cell_type": "code",
   "execution_count": null,
   "id": "5332e435",
   "metadata": {},
   "outputs": [],
   "source": []
  },
  {
   "cell_type": "code",
   "execution_count": 80,
   "id": "48a74709",
   "metadata": {},
   "outputs": [],
   "source": [
    "df['age'] = df['Rings']+1.5\n",
    "y = df['age']"
   ]
  },
  {
   "cell_type": "code",
   "execution_count": 81,
   "id": "8106be65",
   "metadata": {},
   "outputs": [],
   "source": [
    "X_train, X_test, y_train, y_test = train_test_split(X, y, test_size = 0.3)"
   ]
  },
  {
   "cell_type": "code",
   "execution_count": null,
   "id": "faf41cf2",
   "metadata": {},
   "outputs": [],
   "source": [
    "A=πab"
   ]
  },
  {
   "cell_type": "code",
   "execution_count": 111,
   "id": "6bd11677",
   "metadata": {},
   "outputs": [],
   "source": [
    "import math\n",
    "\n",
    "class AreaTransformer(BaseEstimator, TransformerMixin):\n",
    "\n",
    "    def fit(self, X, y=None):\n",
    "        return self\n",
    "\n",
    "    def transform(self, X, y=None):\n",
    "        X_ = X.copy()\n",
    "        X_[\"area\"] = math.pi * X_['Length'] * X_['Diameter']\n",
    "        return X_[[\"area\"]]"
   ]
  },
  {
   "cell_type": "code",
   "execution_count": 112,
   "id": "2408a901",
   "metadata": {},
   "outputs": [],
   "source": [
    "trans = ColumnTransformer(\n",
    "    [('ohe', OneHotEncoder(drop = 'first'), ['Sex']),\n",
    "    ('area', AreaTransformer(), ['Length', 'Diameter'])],\n",
    "    remainder = 'passthrough')"
   ]
  },
  {
   "cell_type": "code",
   "execution_count": 113,
   "id": "0ff1c1f0",
   "metadata": {},
   "outputs": [],
   "source": [
    "preproc = Pipeline([\n",
    "    ('encoder', trans),\n",
    "    ('scaler', StandardScaler())\n",
    "])"
   ]
  },
  {
   "cell_type": "code",
   "execution_count": 114,
   "id": "5d19fb4c",
   "metadata": {},
   "outputs": [],
   "source": [
    "lin_reg = Pipeline([\n",
    "    ('preproc', preproc),\n",
    "    ('model', LinearRegression())\n",
    "])"
   ]
  },
  {
   "cell_type": "code",
   "execution_count": 115,
   "id": "53b429f9",
   "metadata": {},
   "outputs": [],
   "source": [
    "gbr = Pipeline([\n",
    "    ('preproc', preproc),\n",
    "    ('gbr', GradientBoostingRegressor(n_estimators=500, \n",
    "                               learning_rate=0.2,\n",
    "                               max_depth=1))\n",
    "])"
   ]
  },
  {
   "cell_type": "code",
   "execution_count": 116,
   "id": "845a375a",
   "metadata": {},
   "outputs": [],
   "source": [
    "rf = Pipeline([\n",
    "    ('preproc', preproc),\n",
    "    ('rf', RandomForestRegressor(n_estimators = 400))  \n",
    "])\n"
   ]
  },
  {
   "cell_type": "code",
   "execution_count": 118,
   "id": "9bc41a8e",
   "metadata": {},
   "outputs": [
    {
     "name": "stdout",
     "output_type": "stream",
     "text": [
      "abs error:  -1.6110005746171052\n",
      "% error:  -0.14085498307289604\n",
      "r2:  0.49347782903178816\n"
     ]
    }
   ],
   "source": [
    "res = cross_validate(lin_reg, \n",
    "               X_train, \n",
    "               y_train, \n",
    "               cv = 5, \n",
    "               scoring = ['neg_mean_absolute_error','neg_mean_absolute_percentage_error', 'r2'])\n",
    "\n",
    "print('abs error: ', res['test_neg_mean_absolute_error'].mean())\n",
    "print('% error: ', res['test_neg_mean_absolute_percentage_error'].mean())\n",
    "print('r2: ', res['test_r2'].mean())"
   ]
  },
  {
   "cell_type": "code",
   "execution_count": 120,
   "id": "a06500ae",
   "metadata": {},
   "outputs": [
    {
     "name": "stdout",
     "output_type": "stream",
     "text": [
      "abs error:  -1.5911960828471206\n",
      "% error:  -0.1364910742325986\n",
      "r2:  0.530506721386295\n"
     ]
    }
   ],
   "source": [
    "res = cross_validate(gbr, \n",
    "               X_train, \n",
    "               y_train, \n",
    "               cv = 5, \n",
    "               scoring = ['neg_mean_absolute_error','neg_mean_absolute_percentage_error', 'r2'])\n",
    "\n",
    "print('abs error: ', res['test_neg_mean_absolute_error'].mean())\n",
    "print('% error: ', res['test_neg_mean_absolute_percentage_error'].mean())\n",
    "print('r2: ', res['test_r2'].mean())"
   ]
  },
  {
   "cell_type": "code",
   "execution_count": 121,
   "id": "deaa06d8",
   "metadata": {},
   "outputs": [
    {
     "name": "stdout",
     "output_type": "stream",
     "text": [
      "abs error:  -1.5603701220583068\n",
      "% error:  -0.13366143834958985\n",
      "r2:  0.5365793019802574\n"
     ]
    }
   ],
   "source": [
    "res = cross_validate(rf, \n",
    "               X_train, \n",
    "               y_train, \n",
    "               cv = 5, \n",
    "               scoring = ['neg_mean_absolute_error','neg_mean_absolute_percentage_error', 'r2'])\n",
    "\n",
    "print('abs error: ', res['test_neg_mean_absolute_error'].mean())\n",
    "print('% error: ', res['test_neg_mean_absolute_percentage_error'].mean())\n",
    "print('r2: ', res['test_r2'].mean())"
   ]
  },
  {
   "cell_type": "code",
   "execution_count": 98,
   "id": "38ee547e",
   "metadata": {},
   "outputs": [
    {
     "data": {
      "text/plain": [
       "{'memory': None,\n",
       " 'steps': [('preproc', Pipeline(steps=[('encoder',\n",
       "                    ColumnTransformer(remainder='passthrough',\n",
       "                                      transformers=[('ohe',\n",
       "                                                     OneHotEncoder(drop='first'),\n",
       "                                                     ['Sex'])])),\n",
       "                   ('scaler', StandardScaler())])),\n",
       "  ('rf', RandomForestRegressor(n_estimators=400))],\n",
       " 'verbose': False,\n",
       " 'preproc': Pipeline(steps=[('encoder',\n",
       "                  ColumnTransformer(remainder='passthrough',\n",
       "                                    transformers=[('ohe',\n",
       "                                                   OneHotEncoder(drop='first'),\n",
       "                                                   ['Sex'])])),\n",
       "                 ('scaler', StandardScaler())]),\n",
       " 'rf': RandomForestRegressor(n_estimators=400),\n",
       " 'preproc__memory': None,\n",
       " 'preproc__steps': [('encoder',\n",
       "   ColumnTransformer(remainder='passthrough',\n",
       "                     transformers=[('ohe', OneHotEncoder(drop='first'), ['Sex'])])),\n",
       "  ('scaler', StandardScaler())],\n",
       " 'preproc__verbose': False,\n",
       " 'preproc__encoder': ColumnTransformer(remainder='passthrough',\n",
       "                   transformers=[('ohe', OneHotEncoder(drop='first'), ['Sex'])]),\n",
       " 'preproc__scaler': StandardScaler(),\n",
       " 'preproc__encoder__n_jobs': None,\n",
       " 'preproc__encoder__remainder': 'passthrough',\n",
       " 'preproc__encoder__sparse_threshold': 0.3,\n",
       " 'preproc__encoder__transformer_weights': None,\n",
       " 'preproc__encoder__transformers': [('ohe',\n",
       "   OneHotEncoder(drop='first'),\n",
       "   ['Sex'])],\n",
       " 'preproc__encoder__verbose': False,\n",
       " 'preproc__encoder__ohe': OneHotEncoder(drop='first'),\n",
       " 'preproc__encoder__ohe__categories': 'auto',\n",
       " 'preproc__encoder__ohe__drop': 'first',\n",
       " 'preproc__encoder__ohe__dtype': numpy.float64,\n",
       " 'preproc__encoder__ohe__handle_unknown': 'error',\n",
       " 'preproc__encoder__ohe__sparse': True,\n",
       " 'preproc__scaler__copy': True,\n",
       " 'preproc__scaler__with_mean': True,\n",
       " 'preproc__scaler__with_std': True,\n",
       " 'rf__bootstrap': True,\n",
       " 'rf__ccp_alpha': 0.0,\n",
       " 'rf__criterion': 'mse',\n",
       " 'rf__max_depth': None,\n",
       " 'rf__max_features': 'auto',\n",
       " 'rf__max_leaf_nodes': None,\n",
       " 'rf__max_samples': None,\n",
       " 'rf__min_impurity_decrease': 0.0,\n",
       " 'rf__min_impurity_split': None,\n",
       " 'rf__min_samples_leaf': 1,\n",
       " 'rf__min_samples_split': 2,\n",
       " 'rf__min_weight_fraction_leaf': 0.0,\n",
       " 'rf__n_estimators': 400,\n",
       " 'rf__n_jobs': None,\n",
       " 'rf__oob_score': False,\n",
       " 'rf__random_state': None,\n",
       " 'rf__verbose': 0,\n",
       " 'rf__warm_start': False}"
      ]
     },
     "execution_count": 98,
     "metadata": {},
     "output_type": "execute_result"
    }
   ],
   "source": [
    "rf.get_params()"
   ]
  },
  {
   "cell_type": "code",
   "execution_count": 140,
   "id": "1ac449fc",
   "metadata": {},
   "outputs": [],
   "source": [
    "params = {'rf__max_depth': [1, 2, 3, 4, 5, 6, 7, 8],\n",
    "         'rf__n_estimators': [200, 400]}"
   ]
  },
  {
   "cell_type": "code",
   "execution_count": 141,
   "id": "c7d71ecf",
   "metadata": {},
   "outputs": [],
   "source": [
    "grid = GridSearchCV(rf, params, verbose = 3)"
   ]
  },
  {
   "cell_type": "code",
   "execution_count": null,
   "id": "67b25d2b",
   "metadata": {},
   "outputs": [],
   "source": []
  },
  {
   "cell_type": "code",
   "execution_count": 138,
   "id": "3cc86a58",
   "metadata": {},
   "outputs": [
    {
     "name": "stdout",
     "output_type": "stream",
     "text": [
      "Fitting 5 folds for each of 12 candidates, totalling 60 fits\n",
      "[CV] END rf__max_depth=1, rf__min_samples_split=2, rf__n_estimators=200; total time=   0.4s\n",
      "[CV] END rf__max_depth=1, rf__min_samples_split=2, rf__n_estimators=200; total time=   0.4s\n",
      "[CV] END rf__max_depth=1, rf__min_samples_split=2, rf__n_estimators=200; total time=   0.4s\n",
      "[CV] END rf__max_depth=1, rf__min_samples_split=2, rf__n_estimators=200; total time=   0.4s\n",
      "[CV] END rf__max_depth=1, rf__min_samples_split=2, rf__n_estimators=200; total time=   0.4s\n",
      "[CV] END rf__max_depth=1, rf__min_samples_split=5, rf__n_estimators=200; total time=   0.4s\n",
      "[CV] END rf__max_depth=1, rf__min_samples_split=5, rf__n_estimators=200; total time=   0.4s\n",
      "[CV] END rf__max_depth=1, rf__min_samples_split=5, rf__n_estimators=200; total time=   0.4s\n",
      "[CV] END rf__max_depth=1, rf__min_samples_split=5, rf__n_estimators=200; total time=   0.4s\n",
      "[CV] END rf__max_depth=1, rf__min_samples_split=5, rf__n_estimators=200; total time=   0.4s\n",
      "[CV] END rf__max_depth=1, rf__min_samples_split=9, rf__n_estimators=200; total time=   0.4s\n",
      "[CV] END rf__max_depth=1, rf__min_samples_split=9, rf__n_estimators=200; total time=   0.4s\n",
      "[CV] END rf__max_depth=1, rf__min_samples_split=9, rf__n_estimators=200; total time=   0.4s\n",
      "[CV] END rf__max_depth=1, rf__min_samples_split=9, rf__n_estimators=200; total time=   0.5s\n",
      "[CV] END rf__max_depth=1, rf__min_samples_split=9, rf__n_estimators=200; total time=   0.5s\n",
      "[CV] END rf__max_depth=2, rf__min_samples_split=2, rf__n_estimators=200; total time=   0.5s\n",
      "[CV] END rf__max_depth=2, rf__min_samples_split=2, rf__n_estimators=200; total time=   0.5s\n",
      "[CV] END rf__max_depth=2, rf__min_samples_split=2, rf__n_estimators=200; total time=   0.5s\n",
      "[CV] END rf__max_depth=2, rf__min_samples_split=2, rf__n_estimators=200; total time=   0.5s\n",
      "[CV] END rf__max_depth=2, rf__min_samples_split=2, rf__n_estimators=200; total time=   0.5s\n",
      "[CV] END rf__max_depth=2, rf__min_samples_split=5, rf__n_estimators=200; total time=   0.6s\n",
      "[CV] END rf__max_depth=2, rf__min_samples_split=5, rf__n_estimators=200; total time=   0.7s\n",
      "[CV] END rf__max_depth=2, rf__min_samples_split=5, rf__n_estimators=200; total time=   0.7s\n",
      "[CV] END rf__max_depth=2, rf__min_samples_split=5, rf__n_estimators=200; total time=   0.6s\n",
      "[CV] END rf__max_depth=2, rf__min_samples_split=5, rf__n_estimators=200; total time=   0.5s\n",
      "[CV] END rf__max_depth=2, rf__min_samples_split=9, rf__n_estimators=200; total time=   0.5s\n",
      "[CV] END rf__max_depth=2, rf__min_samples_split=9, rf__n_estimators=200; total time=   0.5s\n",
      "[CV] END rf__max_depth=2, rf__min_samples_split=9, rf__n_estimators=200; total time=   0.5s\n",
      "[CV] END rf__max_depth=2, rf__min_samples_split=9, rf__n_estimators=200; total time=   0.5s\n",
      "[CV] END rf__max_depth=2, rf__min_samples_split=9, rf__n_estimators=200; total time=   0.5s\n",
      "[CV] END rf__max_depth=3, rf__min_samples_split=2, rf__n_estimators=200; total time=   0.6s\n",
      "[CV] END rf__max_depth=3, rf__min_samples_split=2, rf__n_estimators=200; total time=   0.6s\n",
      "[CV] END rf__max_depth=3, rf__min_samples_split=2, rf__n_estimators=200; total time=   0.6s\n",
      "[CV] END rf__max_depth=3, rf__min_samples_split=2, rf__n_estimators=200; total time=   0.6s\n",
      "[CV] END rf__max_depth=3, rf__min_samples_split=2, rf__n_estimators=200; total time=   0.6s\n",
      "[CV] END rf__max_depth=3, rf__min_samples_split=5, rf__n_estimators=200; total time=   0.7s\n",
      "[CV] END rf__max_depth=3, rf__min_samples_split=5, rf__n_estimators=200; total time=   0.7s\n",
      "[CV] END rf__max_depth=3, rf__min_samples_split=5, rf__n_estimators=200; total time=   0.7s\n",
      "[CV] END rf__max_depth=3, rf__min_samples_split=5, rf__n_estimators=200; total time=   0.7s\n",
      "[CV] END rf__max_depth=3, rf__min_samples_split=5, rf__n_estimators=200; total time=   0.8s\n",
      "[CV] END rf__max_depth=3, rf__min_samples_split=9, rf__n_estimators=200; total time=   0.8s\n",
      "[CV] END rf__max_depth=3, rf__min_samples_split=9, rf__n_estimators=200; total time=   0.8s\n",
      "[CV] END rf__max_depth=3, rf__min_samples_split=9, rf__n_estimators=200; total time=   1.0s\n",
      "[CV] END rf__max_depth=3, rf__min_samples_split=9, rf__n_estimators=200; total time=   0.8s\n",
      "[CV] END rf__max_depth=3, rf__min_samples_split=9, rf__n_estimators=200; total time=   0.7s\n",
      "[CV] END rf__max_depth=4, rf__min_samples_split=2, rf__n_estimators=200; total time=   0.9s\n",
      "[CV] END rf__max_depth=4, rf__min_samples_split=2, rf__n_estimators=200; total time=   0.9s\n",
      "[CV] END rf__max_depth=4, rf__min_samples_split=2, rf__n_estimators=200; total time=   0.8s\n",
      "[CV] END rf__max_depth=4, rf__min_samples_split=2, rf__n_estimators=200; total time=   0.9s\n",
      "[CV] END rf__max_depth=4, rf__min_samples_split=2, rf__n_estimators=200; total time=   1.0s\n",
      "[CV] END rf__max_depth=4, rf__min_samples_split=5, rf__n_estimators=200; total time=   0.9s\n",
      "[CV] END rf__max_depth=4, rf__min_samples_split=5, rf__n_estimators=200; total time=   1.0s\n",
      "[CV] END rf__max_depth=4, rf__min_samples_split=5, rf__n_estimators=200; total time=   0.9s\n",
      "[CV] END rf__max_depth=4, rf__min_samples_split=5, rf__n_estimators=200; total time=   0.9s\n",
      "[CV] END rf__max_depth=4, rf__min_samples_split=5, rf__n_estimators=200; total time=   0.8s\n",
      "[CV] END rf__max_depth=4, rf__min_samples_split=9, rf__n_estimators=200; total time=   0.9s\n",
      "[CV] END rf__max_depth=4, rf__min_samples_split=9, rf__n_estimators=200; total time=   0.8s\n",
      "[CV] END rf__max_depth=4, rf__min_samples_split=9, rf__n_estimators=200; total time=   0.8s\n",
      "[CV] END rf__max_depth=4, rf__min_samples_split=9, rf__n_estimators=200; total time=   0.8s\n",
      "[CV] END rf__max_depth=4, rf__min_samples_split=9, rf__n_estimators=200; total time=   0.8s\n"
     ]
    }
   ],
   "source": [
    "gs_res = grid.fit(X_train, y_train)"
   ]
  },
  {
   "cell_type": "code",
   "execution_count": 139,
   "id": "417a1661",
   "metadata": {},
   "outputs": [
    {
     "data": {
      "text/plain": [
       "Pipeline(steps=[('preproc',\n",
       "                 Pipeline(steps=[('encoder',\n",
       "                                  ColumnTransformer(remainder='passthrough',\n",
       "                                                    transformers=[('ohe',\n",
       "                                                                   OneHotEncoder(drop='first'),\n",
       "                                                                   ['Sex']),\n",
       "                                                                  ('area',\n",
       "                                                                   AreaTransformer(),\n",
       "                                                                   ['Length',\n",
       "                                                                    'Diameter'])])),\n",
       "                                 ('scaler', StandardScaler())])),\n",
       "                ('rf', RandomForestRegressor(max_depth=4, n_estimators=200))])"
      ]
     },
     "execution_count": 139,
     "metadata": {},
     "output_type": "execute_result"
    }
   ],
   "source": [
    "gs_res.best_estimator_"
   ]
  },
  {
   "cell_type": "code",
   "execution_count": 57,
   "id": "07a9ee5f",
   "metadata": {
    "scrolled": true
   },
   "outputs": [
    {
     "data": {
      "text/plain": [
       "array([[1.        , 0.        , 0.6       , ..., 0.21222222, 0.20210665,\n",
       "        0.20129547],\n",
       "       [0.        , 1.        , 0.75172414, ..., 0.33555556, 0.25806452,\n",
       "        0.3472845 ],\n",
       "       [1.        , 0.        , 0.54482759, ..., 0.12888889, 0.11191573,\n",
       "        0.13303438],\n",
       "       ...,\n",
       "       [1.        , 0.        , 0.71724138, ..., 0.35962963, 0.24160632,\n",
       "        0.27304434],\n",
       "       [0.        , 1.        , 0.89655172, ..., 0.51592593, 0.62146149,\n",
       "        0.57648231],\n",
       "       [0.        , 1.        , 0.68275862, ..., 0.35296296, 0.30414747,\n",
       "        0.26756353]])"
      ]
     },
     "execution_count": 57,
     "metadata": {},
     "output_type": "execute_result"
    }
   ],
   "source": [
    "preproc.fit_transform(X_train)"
   ]
  },
  {
   "cell_type": "code",
   "execution_count": null,
   "id": "b8fd7654",
   "metadata": {},
   "outputs": [],
   "source": []
  }
 ],
 "metadata": {
  "kernelspec": {
   "display_name": "Python 3 (ipykernel)",
   "language": "python",
   "name": "python3"
  },
  "language_info": {
   "codemirror_mode": {
    "name": "ipython",
    "version": 3
   },
   "file_extension": ".py",
   "mimetype": "text/x-python",
   "name": "python",
   "nbconvert_exporter": "python",
   "pygments_lexer": "ipython3",
   "version": "3.8.6"
  }
 },
 "nbformat": 4,
 "nbformat_minor": 5
}
